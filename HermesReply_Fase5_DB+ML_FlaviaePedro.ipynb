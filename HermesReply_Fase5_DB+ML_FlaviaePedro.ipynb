{
  "nbformat": 4,
  "nbformat_minor": 0,
  "metadata": {
    "colab": {
      "provenance": [],
      "authorship_tag": "ABX9TyPKD4F0a36bF6f6IWBrUFxb",
      "include_colab_link": true
    },
    "kernelspec": {
      "name": "python3",
      "display_name": "Python 3"
    },
    "language_info": {
      "name": "python"
    }
  },
  "cells": [
    {
      "cell_type": "markdown",
      "metadata": {
        "id": "view-in-github",
        "colab_type": "text"
      },
      "source": [
        "<a href=\"https://colab.research.google.com/github/flahbocchino/hermes-reply-fase5/blob/main/HermesReply_Fase5_DB%2BML_FlaviaePedro.ipynb\" target=\"_parent\"><img src=\"https://colab.research.google.com/assets/colab-badge.svg\" alt=\"Open In Colab\"/></a>"
      ]
    },
    {
      "cell_type": "code",
      "source": [
        "%pip install -q pandas scikit-learn matplotlib SQLAlchemy==2.0.30 eralchemy2\n",
        "!apt-get -y -qq update\n",
        "!apt-get -y -qq install graphviz\n"
      ],
      "metadata": {
        "colab": {
          "base_uri": "https://localhost:8080/"
        },
        "id": "5rRuKHf8CBWn",
        "outputId": "4a881033-88e1-4975-de57-36481266a76f"
      },
      "execution_count": 88,
      "outputs": [
        {
          "output_type": "stream",
          "name": "stdout",
          "text": [
            "shell-init: error retrieving current directory: getcwd: cannot access parent directories: No such file or directory\n",
            "shell-init: error retrieving current directory: getcwd: cannot access parent directories: No such file or directory\n",
            "The folder you are executing pip from can no longer be found.\n",
            "shell-init: error retrieving current directory: getcwd: cannot access parent directories: No such file or directory\n",
            "W: Skipping acquire of configured file 'main/source/Sources' as repository 'https://r2u.stat.illinois.edu/ubuntu jammy InRelease' does not seem to provide it (sources.list entry misspelt?)\n",
            "shell-init: error retrieving current directory: getcwd: cannot access parent directories: No such file or directory\n"
          ]
        }
      ]
    },
    {
      "cell_type": "code",
      "source": [
        "%pip install -q pandas scikit-learn matplotlib SQLAlchemy==2.0.30 sqlalchemy_schemadisplay pydot\n",
        "!apt-get -y -qq update\n",
        "!apt-get -y -qq install graphviz\n"
      ],
      "metadata": {
        "colab": {
          "base_uri": "https://localhost:8080/"
        },
        "id": "E7xJoj-ZCvxx",
        "outputId": "38324adb-7a40-48a2-8e6e-b13fffe2f1ad"
      },
      "execution_count": 89,
      "outputs": [
        {
          "output_type": "stream",
          "name": "stdout",
          "text": [
            "shell-init: error retrieving current directory: getcwd: cannot access parent directories: No such file or directory\n",
            "shell-init: error retrieving current directory: getcwd: cannot access parent directories: No such file or directory\n",
            "The folder you are executing pip from can no longer be found.\n",
            "shell-init: error retrieving current directory: getcwd: cannot access parent directories: No such file or directory\n",
            "W: Skipping acquire of configured file 'main/source/Sources' as repository 'https://r2u.stat.illinois.edu/ubuntu jammy InRelease' does not seem to provide it (sources.list entry misspelt?)\n",
            "shell-init: error retrieving current directory: getcwd: cannot access parent directories: No such file or directory\n"
          ]
        }
      ]
    },
    {
      "cell_type": "code",
      "source": [
        "# Ver se o binário do Graphviz está ok\n",
        "!dot -V\n",
        "\n",
        "# Imports\n",
        "import os, sqlite3\n",
        "import pandas as pd\n",
        "import numpy as np\n",
        "import matplotlib.pyplot as plt\n",
        "from datetime import datetime, timedelta\n",
        "\n",
        "# Para gerar o DER (sem pygraphviz)\n",
        "from sqlalchemy import create_engine, MetaData\n",
        "from sqlalchemy_schemadisplay import create_schema_graph\n",
        "\n",
        "print(\"Imports OK.\")\n"
      ],
      "metadata": {
        "colab": {
          "base_uri": "https://localhost:8080/"
        },
        "id": "eyisiTfdC7By",
        "outputId": "2c077666-09db-43d4-fe77-c3605d781d91"
      },
      "execution_count": 90,
      "outputs": [
        {
          "output_type": "stream",
          "name": "stdout",
          "text": [
            "shell-init: error retrieving current directory: getcwd: cannot access parent directories: No such file or directory\n",
            "dot - graphviz version 2.43.0 (0)\n",
            "Imports OK.\n"
          ]
        }
      ]
    },
    {
      "cell_type": "code",
      "source": [
        "# CÉLULA CORRIGIDA — CRIAR A ESTRUTURA DO PROJETO (robusta)\n",
        "\n",
        "from pathlib import Path\n",
        "import os\n",
        "\n",
        "# garanta que estamos no /content (diretório padrão do Colab)\n",
        "os.chdir(\"/content\")\n",
        "\n",
        "ROOT = Path(\"/content/hermes-reply-fase5\")\n",
        "SUBS = [\"data\", \"ddl\", \"images\", \"notebooks\", \"src\"]\n",
        "\n",
        "# cria pasta raiz e subpastas\n",
        "ROOT.mkdir(parents=True, exist_ok=True)\n",
        "for s in SUBS:\n",
        "    (ROOT / s).mkdir(parents=True, exist_ok=True)\n",
        "\n",
        "print(\"✅ Estrutura criada em:\", ROOT)\n",
        "\n",
        "# mostrar a árvore (2 níveis) para conferir\n",
        "!find /content/hermes-reply-fase5 -maxdepth 2 -type d | sort\n",
        "\n"
      ],
      "metadata": {
        "colab": {
          "base_uri": "https://localhost:8080/"
        },
        "id": "q-tkCmIuDFDX",
        "outputId": "7646724b-ac17-4b25-c918-e0fed5e334ce"
      },
      "execution_count": 91,
      "outputs": [
        {
          "output_type": "stream",
          "name": "stdout",
          "text": [
            "✅ Estrutura criada em: /content/hermes-reply-fase5\n",
            "/content/hermes-reply-fase5\n",
            "/content/hermes-reply-fase5/data\n",
            "/content/hermes-reply-fase5/ddl\n",
            "/content/hermes-reply-fase5/images\n",
            "/content/hermes-reply-fase5/notebooks\n",
            "/content/hermes-reply-fase5/reports\n",
            "/content/hermes-reply-fase5/src\n"
          ]
        }
      ]
    },
    {
      "cell_type": "code",
      "source": [
        "# CÉLULA 2 (limpa e final) — grava e pré-visualiza o schema.sql, e lista a pasta\n",
        "\n",
        "import os\n",
        "\n",
        "PROJECT = \"hermes-reply-fase5\"\n",
        "os.makedirs(os.path.join(PROJECT, \"ddl\"), exist_ok=True)\n",
        "ddl_path = os.path.join(PROJECT, \"ddl\", \"schema.sql\")\n",
        "\n",
        "schema_sql = \"\"\"\n",
        "PRAGMA foreign_keys = ON;\n",
        "\n",
        "CREATE TABLE IF NOT EXISTS sites (\n",
        "    site_id      INTEGER PRIMARY KEY,\n",
        "    name         TEXT NOT NULL,\n",
        "    city         TEXT,\n",
        "    state        TEXT,\n",
        "    country      TEXT\n",
        ");\n",
        "\n",
        "CREATE TABLE IF NOT EXISTS assets (\n",
        "    asset_id      INTEGER PRIMARY KEY,\n",
        "    site_id       INTEGER NOT NULL,\n",
        "    name          TEXT NOT NULL,\n",
        "    asset_type    TEXT NOT NULL,\n",
        "    manufacturer  TEXT,\n",
        "    model         TEXT,\n",
        "    install_date  DATE,\n",
        "    serial_number TEXT UNIQUE,\n",
        "    FOREIGN KEY (site_id) REFERENCES sites(site_id) ON DELETE CASCADE\n",
        ");\n",
        "\n",
        "CREATE TABLE IF NOT EXISTS sensor_types (\n",
        "    sensor_type_id INTEGER PRIMARY KEY,\n",
        "    name           TEXT UNIQUE NOT NULL,\n",
        "    description    TEXT\n",
        ");\n",
        "\n",
        "CREATE TABLE IF NOT EXISTS units (\n",
        "    unit_id INTEGER PRIMARY KEY,\n",
        "    symbol  TEXT UNIQUE NOT NULL,\n",
        "    name    TEXT NOT NULL\n",
        ");\n",
        "\n",
        "CREATE TABLE IF NOT EXISTS sensors (\n",
        "    sensor_id        INTEGER PRIMARY KEY,\n",
        "    asset_id         INTEGER NOT NULL,\n",
        "    sensor_type_id   INTEGER NOT NULL,\n",
        "    unit_id          INTEGER NOT NULL,\n",
        "    serial_number    TEXT UNIQUE,\n",
        "    sampling_rate_hz REAL CHECK (sampling_rate_hz > 0),\n",
        "    min_value        REAL,\n",
        "    max_value        REAL,\n",
        "    calibration_date DATE,\n",
        "    status           TEXT NOT NULL DEFAULT 'active' CHECK (status IN ('active','inactive','maintenance')),\n",
        "    FOREIGN KEY (asset_id)       REFERENCES assets(asset_id)       ON DELETE CASCADE,\n",
        "    FOREIGN KEY (sensor_type_id) REFERENCES sensor_types(sensor_type_id),\n",
        "    FOREIGN KEY (unit_id)        REFERENCES units(unit_id)\n",
        ");\n",
        "\n",
        "CREATE TABLE IF NOT EXISTS thresholds (\n",
        "    threshold_id INTEGER PRIMARY KEY,\n",
        "    sensor_id    INTEGER UNIQUE NOT NULL,\n",
        "    lower_warn   REAL,\n",
        "    upper_warn   REAL,\n",
        "    lower_crit   REAL,\n",
        "    upper_crit   REAL,\n",
        "    FOREIGN KEY (sensor_id) REFERENCES sensors(sensor_id) ON DELETE CASCADE,\n",
        "    CHECK ((lower_warn IS NULL OR upper_warn IS NULL) OR (lower_warn < upper_warn)),\n",
        "    CHECK ((lower_crit IS NULL OR upper_crit IS NULL) OR (lower_crit < upper_crit))\n",
        ");\n",
        "\n",
        "CREATE TABLE IF NOT EXISTS readings (\n",
        "    sensor_id    INTEGER NOT NULL,\n",
        "    ts           DATETIME NOT NULL,\n",
        "    value        REAL NOT NULL,\n",
        "    quality_flag TEXT DEFAULT 'ok' CHECK (quality_flag IN ('ok','suspect','bad')),\n",
        "    PRIMARY KEY (sensor_id, ts),\n",
        "    FOREIGN KEY (sensor_id) REFERENCES sensors(sensor_id) ON DELETE CASCADE\n",
        ");\n",
        "\n",
        "CREATE TABLE IF NOT EXISTS alerts (\n",
        "    alert_id       INTEGER PRIMARY KEY,\n",
        "    sensor_id      INTEGER NOT NULL,\n",
        "    ts             DATETIME NOT NULL,\n",
        "    alert_level    TEXT NOT NULL CHECK (alert_level IN ('WARN','CRIT')),\n",
        "    measured_value REAL NOT NULL,\n",
        "    resolved_flag  INTEGER NOT NULL DEFAULT 0,\n",
        "    FOREIGN KEY (sensor_id) REFERENCES sensors(sensor_id)\n",
        ");\n",
        "\n",
        "CREATE TABLE IF NOT EXISTS maintenance_events (\n",
        "    event_id   INTEGER PRIMARY KEY,\n",
        "    asset_id   INTEGER NOT NULL,\n",
        "    start_ts   DATETIME NOT NULL,\n",
        "    end_ts     DATETIME,\n",
        "    event_type TEXT NOT NULL CHECK (event_type IN ('scheduled','unscheduled','inspection','repair')),\n",
        "    description TEXT,\n",
        "    FOREIGN KEY (asset_id) REFERENCES assets(asset_id)\n",
        ");\n",
        "\n",
        "CREATE INDEX IF NOT EXISTS idx_readings_ts ON readings(ts);\n",
        "CREATE INDEX IF NOT EXISTS idx_readings_sensor_ts ON readings(sensor_id, ts DESC);\n",
        "\"\"\".strip()\n",
        "\n",
        "# 1) gravar\n",
        "with open(ddl_path, \"w\", encoding=\"utf-8\") as f:\n",
        "    f.write(schema_sql + \"\\n\")\n",
        "\n",
        "print(\"✅ schema.sql criado em:\", ddl_path)\n",
        "\n",
        "# 2) prévia (primeiras ~60 linhas)\n",
        "with open(ddl_path, \"r\", encoding=\"utf-8\") as f:\n",
        "    lines = f.readlines()\n",
        "for i, line in enumerate(lines[:60], start=1):\n",
        "    print(f\"{i:02d}: {line.rstrip()}\")\n",
        "if len(lines) > 60:\n",
        "    print(\"... (arquivo continua)\")\n",
        "\n",
        "# 3) listar a pasta\n",
        "print(\"\\nConteúdo de hermes-reply-fase5/ddl:\")\n",
        "for root, dirs, files in os.walk(os.path.join(PROJECT, \"ddl\")):\n",
        "    for fn in files:\n",
        "        print(\" -\", os.path.join(root, fn))\n"
      ],
      "metadata": {
        "colab": {
          "base_uri": "https://localhost:8080/"
        },
        "id": "rmL5Kb4YEd6S",
        "outputId": "e1ce9ddb-e907-44b2-a77e-c4a16fa0ad9f"
      },
      "execution_count": 92,
      "outputs": [
        {
          "output_type": "stream",
          "name": "stdout",
          "text": [
            "✅ schema.sql criado em: hermes-reply-fase5/ddl/schema.sql\n",
            "01: PRAGMA foreign_keys = ON;\n",
            "02: \n",
            "03: CREATE TABLE IF NOT EXISTS sites (\n",
            "04:     site_id      INTEGER PRIMARY KEY,\n",
            "05:     name         TEXT NOT NULL,\n",
            "06:     city         TEXT,\n",
            "07:     state        TEXT,\n",
            "08:     country      TEXT\n",
            "09: );\n",
            "10: \n",
            "11: CREATE TABLE IF NOT EXISTS assets (\n",
            "12:     asset_id      INTEGER PRIMARY KEY,\n",
            "13:     site_id       INTEGER NOT NULL,\n",
            "14:     name          TEXT NOT NULL,\n",
            "15:     asset_type    TEXT NOT NULL,\n",
            "16:     manufacturer  TEXT,\n",
            "17:     model         TEXT,\n",
            "18:     install_date  DATE,\n",
            "19:     serial_number TEXT UNIQUE,\n",
            "20:     FOREIGN KEY (site_id) REFERENCES sites(site_id) ON DELETE CASCADE\n",
            "21: );\n",
            "22: \n",
            "23: CREATE TABLE IF NOT EXISTS sensor_types (\n",
            "24:     sensor_type_id INTEGER PRIMARY KEY,\n",
            "25:     name           TEXT UNIQUE NOT NULL,\n",
            "26:     description    TEXT\n",
            "27: );\n",
            "28: \n",
            "29: CREATE TABLE IF NOT EXISTS units (\n",
            "30:     unit_id INTEGER PRIMARY KEY,\n",
            "31:     symbol  TEXT UNIQUE NOT NULL,\n",
            "32:     name    TEXT NOT NULL\n",
            "33: );\n",
            "34: \n",
            "35: CREATE TABLE IF NOT EXISTS sensors (\n",
            "36:     sensor_id        INTEGER PRIMARY KEY,\n",
            "37:     asset_id         INTEGER NOT NULL,\n",
            "38:     sensor_type_id   INTEGER NOT NULL,\n",
            "39:     unit_id          INTEGER NOT NULL,\n",
            "40:     serial_number    TEXT UNIQUE,\n",
            "41:     sampling_rate_hz REAL CHECK (sampling_rate_hz > 0),\n",
            "42:     min_value        REAL,\n",
            "43:     max_value        REAL,\n",
            "44:     calibration_date DATE,\n",
            "45:     status           TEXT NOT NULL DEFAULT 'active' CHECK (status IN ('active','inactive','maintenance')),\n",
            "46:     FOREIGN KEY (asset_id)       REFERENCES assets(asset_id)       ON DELETE CASCADE,\n",
            "47:     FOREIGN KEY (sensor_type_id) REFERENCES sensor_types(sensor_type_id),\n",
            "48:     FOREIGN KEY (unit_id)        REFERENCES units(unit_id)\n",
            "49: );\n",
            "50: \n",
            "51: CREATE TABLE IF NOT EXISTS thresholds (\n",
            "52:     threshold_id INTEGER PRIMARY KEY,\n",
            "53:     sensor_id    INTEGER UNIQUE NOT NULL,\n",
            "54:     lower_warn   REAL,\n",
            "55:     upper_warn   REAL,\n",
            "56:     lower_crit   REAL,\n",
            "57:     upper_crit   REAL,\n",
            "58:     FOREIGN KEY (sensor_id) REFERENCES sensors(sensor_id) ON DELETE CASCADE,\n",
            "59:     CHECK ((lower_warn IS NULL OR upper_warn IS NULL) OR (lower_warn < upper_warn)),\n",
            "60:     CHECK ((lower_crit IS NULL OR upper_crit IS NULL) OR (lower_crit < upper_crit))\n",
            "... (arquivo continua)\n",
            "\n",
            "Conteúdo de hermes-reply-fase5/ddl:\n",
            " - hermes-reply-fase5/ddl/schema.sql\n"
          ]
        }
      ]
    },
    {
      "cell_type": "code",
      "source": [
        "# CÉLULA 3A — checagem e setup\n",
        "import os, sys\n",
        "import pandas as pd\n",
        "import numpy as np\n",
        "from datetime import datetime, timedelta\n",
        "\n",
        "# garanta que a pasta do projeto exista (redefine PROJECT aqui)\n",
        "PROJECT = \"hermes-reply-fase5\"\n",
        "for sub in [\"\", \"data\"]:\n",
        "    os.makedirs(os.path.join(PROJECT, sub), exist_ok=True)\n",
        "\n",
        "print(\"OK: pandas\", pd.__version__)\n",
        "print(\"OK: pasta existe:\", os.path.isdir(PROJECT), \"->\", PROJECT)\n",
        "print(\"OK: subpasta data existe:\", os.path.isdir(os.path.join(PROJECT, \"data\")))\n"
      ],
      "metadata": {
        "colab": {
          "base_uri": "https://localhost:8080/"
        },
        "id": "c4gqVJmjEwdY",
        "outputId": "b2234853-88ce-4387-a4c2-2735f99a9cf8"
      },
      "execution_count": 93,
      "outputs": [
        {
          "output_type": "stream",
          "name": "stdout",
          "text": [
            "OK: pandas 2.2.2\n",
            "OK: pasta existe: True -> hermes-reply-fase5\n",
            "OK: subpasta data existe: True\n"
          ]
        }
      ]
    },
    {
      "cell_type": "code",
      "source": [
        "# CÉLULA 3B — gerar CSVs (com tratamento de erros e tudo auto-contido)\n",
        "\n",
        "import os\n",
        "import pandas as pd\n",
        "import numpy as np\n",
        "from datetime import datetime, timedelta\n",
        "\n",
        "try:\n",
        "    # ---------- Tabelas básicas ----------\n",
        "    sites = pd.DataFrame([\n",
        "        {\"site_id\": 1, \"name\": \"Plant A\", \"city\": \"São Paulo\", \"state\": \"SP\", \"country\": \"BR\"},\n",
        "        {\"site_id\": 2, \"name\": \"Plant B\", \"city\": \"Campinas\", \"state\": \"SP\", \"country\": \"BR\"},\n",
        "    ])\n",
        "\n",
        "    assets = pd.DataFrame([\n",
        "        {\"asset_id\": 1, \"site_id\": 1, \"name\": \"Compressor-01\", \"asset_type\": \"compressor\", \"manufacturer\": \"ACME\", \"model\": \"C1000\", \"install_date\": \"2023-01-15\", \"serial_number\": \"CMP-001\"},\n",
        "        {\"asset_id\": 2, \"site_id\": 1, \"name\": \"Motor-01\",      \"asset_type\": \"motor\",      \"manufacturer\": \"ACME\", \"model\": \"M500\",  \"install_date\": \"2023-01-15\", \"serial_number\": \"MTR-001\"},\n",
        "        {\"asset_id\": 3, \"site_id\": 2, \"name\": \"Turbine-01\",    \"asset_type\": \"turbine\",    \"manufacturer\": \"ACME\", \"model\": \"T300\",  \"install_date\": \"2023-02-10\", \"serial_number\": \"TRB-001\"},\n",
        "        {\"asset_id\": 4, \"site_id\": 2, \"name\": \"Pump-01\",       \"asset_type\": \"pump\",       \"manufacturer\": \"ACME\", \"model\": \"P200\",  \"install_date\": \"2023-02-10\", \"serial_number\": \"PMP-001\"},\n",
        "        {\"asset_id\": 5, \"site_id\": 1, \"name\": \"Fan-01\",        \"asset_type\": \"fan\",        \"manufacturer\": \"ACME\", \"model\": \"F150\",  \"install_date\": \"2023-03-05\", \"serial_number\": \"FAN-001\"},\n",
        "    ])\n",
        "\n",
        "    sensor_types = pd.DataFrame([\n",
        "        {\"sensor_type_id\": 1, \"name\": \"temperature\", \"description\": \"Process temperature\"},\n",
        "        {\"sensor_type_id\": 2, \"name\": \"vibration\",   \"description\": \"Vibration velocity\"},\n",
        "        {\"sensor_type_id\": 3, \"name\": \"current\",     \"description\": \"Motor electrical current\"},\n",
        "    ])\n",
        "\n",
        "    units = pd.DataFrame([\n",
        "        {\"unit_id\": 1, \"symbol\": \"°C\", \"name\": \"degree Celsius\"},\n",
        "        {\"unit_id\": 2, \"symbol\": \"mm/s\", \"name\": \"millimeters per second\"},\n",
        "        {\"unit_id\": 3, \"symbol\": \"A\", \"name\": \"ampere\"},\n",
        "    ])\n",
        "\n",
        "    # ---------- Sensores ----------\n",
        "    sensors_list = []\n",
        "    sid = 1\n",
        "    for _, a in assets.iterrows():\n",
        "        sensors_list.append({\"sensor_id\": sid, \"asset_id\": a.asset_id, \"sensor_type_id\": 1, \"unit_id\": 1, \"serial_number\": f\"TEMP-{a.asset_id:03d}\", \"sampling_rate_hz\": 1.0, \"min_value\": -20, \"max_value\": 120, \"calibration_date\": \"2024-01-01\", \"status\": \"active\"}); sid += 1\n",
        "        sensors_list.append({\"sensor_id\": sid, \"asset_id\": a.asset_id, \"sensor_type_id\": 2, \"unit_id\": 2, \"serial_number\": f\"VIB-{a.asset_id:03d}\",  \"sampling_rate_hz\": 1.0, \"min_value\": 0,   \"max_value\": 20,  \"calibration_date\": \"2024-01-01\", \"status\": \"active\"}); sid += 1\n",
        "        sensors_list.append({\"sensor_id\": sid, \"asset_id\": a.asset_id, \"sensor_type_id\": 3, \"unit_id\": 3, \"serial_number\": f\"CUR-{a.asset_id:03d}\",  \"sampling_rate_hz\": 1.0, \"min_value\": 0,   \"max_value\": 30,  \"calibration_date\": \"2024-01-01\", \"status\": \"active\"}); sid += 1\n",
        "    sensors_df = pd.DataFrame(sensors_list)\n",
        "\n",
        "    # ---------- Thresholds ----------\n",
        "    thresholds_list = []\n",
        "    for _, s in sensors_df.iterrows():\n",
        "        if s.sensor_type_id == 1:\n",
        "            thresholds_list.append({\"threshold_id\": s.sensor_id, \"sensor_id\": s.sensor_id, \"lower_warn\": None, \"upper_warn\": 75, \"lower_crit\": None, \"upper_crit\": 90})\n",
        "        elif s.sensor_type_id == 2:\n",
        "            thresholds_list.append({\"threshold_id\": s.sensor_id, \"sensor_id\": s.sensor_id, \"lower_warn\": None, \"upper_warn\": 6,  \"lower_crit\": None, \"upper_crit\": 10})\n",
        "        else:\n",
        "            thresholds_list.append({\"threshold_id\": s.sensor_id, \"sensor_id\": s.sensor_id, \"lower_warn\": None, \"upper_warn\": 12, \"lower_crit\": None, \"upper_crit\": 18})\n",
        "    thresholds_df = pd.DataFrame(thresholds_list)\n",
        "\n",
        "    # ---------- Readings (600 por sensor) ----------\n",
        "    np.random.seed(7)\n",
        "    start = datetime(2025, 8, 1, 8, 0, 0)\n",
        "    minutes = 600\n",
        "    timestamps = [start + timedelta(minutes=i) for i in range(minutes)]\n",
        "\n",
        "    rows = []\n",
        "    for _, s in sensors_df.iterrows():\n",
        "        if s.sensor_type_id == 1:\n",
        "            base = 65 + 5*np.sin(np.linspace(0, 6*np.pi, minutes))\n",
        "            noise = np.random.normal(0, 1.5, size=minutes)\n",
        "            values = base + noise\n",
        "        elif s.sensor_type_id == 2:\n",
        "            base = 4 + np.abs(np.random.normal(0, 0.8, size=minutes))\n",
        "            values = base\n",
        "        else:\n",
        "            base = 9 + np.random.normal(0, 0.7, size=minutes)\n",
        "            values = base\n",
        "\n",
        "        for ts, val in zip(timestamps, values):\n",
        "            rows.append({\n",
        "                \"sensor_id\": int(s.sensor_id),\n",
        "                \"ts\": ts.strftime(\"%Y-%m-%d %H:%M:%S\"),\n",
        "                \"value\": float(np.round(val, 3)),\n",
        "                \"quality_flag\": \"ok\"\n",
        "            })\n",
        "\n",
        "    readings_df = pd.DataFrame(rows)\n",
        "\n",
        "    # ---------- salvar ----------\n",
        "    paths = {\n",
        "        \"sites\": os.path.join(PROJECT, \"data\", \"sites.csv\"),\n",
        "        \"assets\": os.path.join(PROJECT, \"data\", \"assets.csv\"),\n",
        "        \"sensor_types\": os.path.join(PROJECT, \"data\", \"sensor_types.csv\"),\n",
        "        \"units\": os.path.join(PROJECT, \"data\", \"units.csv\"),\n",
        "        \"sensors\": os.path.join(PROJECT, \"data\", \"sensors.csv\"),\n",
        "        \"thresholds\": os.path.join(PROJECT, \"data\", \"thresholds.csv\"),\n",
        "        \"readings\": os.path.join(PROJECT, \"data\", \"readings.csv\"),\n",
        "    }\n",
        "    sites.to_csv(paths[\"sites\"], index=False)\n",
        "    assets.to_csv(paths[\"assets\"], index=False)\n",
        "    sensor_types.to_csv(paths[\"sensor_types\"], index=False)\n",
        "    units.to_csv(paths[\"units\"], index=False)\n",
        "    sensors_df.to_csv(paths[\"sensors\"], index=False)\n",
        "    thresholds_df.to_csv(paths[\"thresholds\"], index=False)\n",
        "    readings_df.to_csv(paths[\"readings\"], index=False)\n",
        "\n",
        "    print(\"✅ CSVs criados em:\", os.path.join(PROJECT, \"data\"))\n",
        "    print(\"Contagens -> sites:\", len(sites),\n",
        "          \"| assets:\", len(assets),\n",
        "          \"| sensors:\", len(sensors_df),\n",
        "          \"| readings:\", len(readings_df))\n",
        "\n",
        "except Exception as e:\n",
        "    import traceback\n",
        "    print(\"❌ Erro ao gerar CSVs:\", e)\n",
        "    print(traceback.format_exc())\n"
      ],
      "metadata": {
        "colab": {
          "base_uri": "https://localhost:8080/"
        },
        "id": "OatuXc-7FXfU",
        "outputId": "341fbad9-88cf-4b7d-9e4e-157812252938"
      },
      "execution_count": 94,
      "outputs": [
        {
          "output_type": "stream",
          "name": "stdout",
          "text": [
            "✅ CSVs criados em: hermes-reply-fase5/data\n",
            "Contagens -> sites: 2 | assets: 5 | sensors: 15 | readings: 9000\n"
          ]
        }
      ]
    },
    {
      "cell_type": "code",
      "source": [
        "# RECRIAR ESTRUTURA DO PROJETO (robusta)\n",
        "from pathlib import Path\n",
        "\n",
        "BASE = Path(\"/content\")\n",
        "ROOT = BASE / \"hermes-reply-fase5\"         # pasta do projeto\n",
        "SUBS = [\"data\", \"ddl\", \"images\", \"notebooks\", \"src\"]\n",
        "\n",
        "# cria a pasta raiz e as subpastas\n",
        "ROOT.mkdir(parents=True, exist_ok=True)\n",
        "for s in SUBS:\n",
        "    (ROOT / s).mkdir(parents=True, exist_ok=True)\n",
        "\n",
        "print(\"✅ Estrutura criada em:\", ROOT)\n",
        "!ls -R {ROOT}\n"
      ],
      "metadata": {
        "colab": {
          "base_uri": "https://localhost:8080/"
        },
        "id": "DChe2VV8ZTj-",
        "outputId": "41bd7d4f-f09a-47d6-f626-6298fb5d0602"
      },
      "execution_count": 95,
      "outputs": [
        {
          "output_type": "stream",
          "name": "stdout",
          "text": [
            "✅ Estrutura criada em: /content/hermes-reply-fase5\n",
            "/content/hermes-reply-fase5:\n",
            "data  ddl  images  notebooks  README.md  reports  sensors.db  src\n",
            "\n",
            "/content/hermes-reply-fase5/data:\n",
            "assets.csv    sensors.csv\tsites.csv\tunits.csv\n",
            "readings.csv  sensor_types.csv\tthresholds.csv\n",
            "\n",
            "/content/hermes-reply-fase5/ddl:\n",
            "schema.sql\n",
            "\n",
            "/content/hermes-reply-fase5/images:\n",
            "confusion_matrix_from_script.png  er_diagram.png\t serie_sensor_1.png\n",
            "confusion_matrix.png\t\t  leituras_por_tipo.png\n",
            "\n",
            "/content/hermes-reply-fase5/notebooks:\n",
            "\n",
            "/content/hermes-reply-fase5/reports:\n",
            "train_log.txt\n",
            "\n",
            "/content/hermes-reply-fase5/src:\n",
            "train_ml.py\n"
          ]
        }
      ]
    },
    {
      "cell_type": "code",
      "source": [
        "import os, sqlite3\n",
        "import pandas as pd\n",
        "from IPython.display import display\n",
        "\n",
        "PROJECT = \"hermes-reply-fase5\"\n",
        "DB_PATH = os.path.join(PROJECT, \"sensors.db\")\n",
        "DDL_PATH = os.path.join(PROJECT, \"ddl\", \"schema.sql\")\n",
        "\n",
        "# 0) Se existir um DB antigo, apaga para evitar duplicidades/erros de PK/UNIQUE\n",
        "if os.path.exists(DB_PATH):\n",
        "    os.remove(DB_PATH)\n",
        "    print(\"🧹 DB antigo removido:\", DB_PATH)\n",
        "\n",
        "# 1) Criar DB novo\n",
        "con = sqlite3.connect(DB_PATH)\n",
        "con.execute(\"PRAGMA foreign_keys = ON;\")\n",
        "\n",
        "# 2) Aplicar DDL (criar tabelas, FKs, índices)\n",
        "with open(DDL_PATH, \"r\", encoding=\"utf-8\") as f:\n",
        "    con.executescript(f.read())\n",
        "con.commit()\n",
        "print(\"✅ Schema aplicado.\")\n",
        "\n",
        "# 3) Importar CSVs na ordem correta (referências -> fatos)\n",
        "paths = {\n",
        "    \"sites\":        os.path.join(PROJECT, \"data\", \"sites.csv\"),\n",
        "    \"assets\":       os.path.join(PROJECT, \"data\", \"assets.csv\"),\n",
        "    \"sensor_types\": os.path.join(PROJECT, \"data\", \"sensor_types.csv\"),\n",
        "    \"units\":        os.path.join(PROJECT, \"data\", \"units.csv\"),\n",
        "    \"sensors\":      os.path.join(PROJECT, \"data\", \"sensors.csv\"),\n",
        "    \"thresholds\":   os.path.join(PROJECT, \"data\", \"thresholds.csv\"),\n",
        "    \"readings\":     os.path.join(PROJECT, \"data\", \"readings.csv\"),\n",
        "}\n",
        "\n",
        "for table, path in paths.items():\n",
        "    df = pd.read_csv(path)\n",
        "    # usamos append porque as tabelas já existem com restrições\n",
        "    df.to_sql(table, con, if_exists=\"append\", index=False)\n",
        "    print(f\"OK -> {table}: {len(df)} linhas\")\n",
        "\n",
        "# 4) Validação rápida\n",
        "q = \"\"\"\n",
        "SELECT a.asset_id, a.name AS asset_name, COUNT(r.ts) AS leituras\n",
        "FROM assets a\n",
        "JOIN sensors s ON s.asset_id = a.asset_id\n",
        "JOIN readings r ON r.sensor_id = s.sensor_id\n",
        "GROUP BY a.asset_id, a.name\n",
        "ORDER BY a.asset_id;\n",
        "\"\"\"\n",
        "display(pd.read_sql(q, con))\n",
        "\n",
        "print(\"🎉 Banco pronto em:\", DB_PATH)\n"
      ],
      "metadata": {
        "colab": {
          "base_uri": "https://localhost:8080/",
          "height": 380
        },
        "id": "BLRFH9pbGYvs",
        "outputId": "03bef610-764b-4e67-a8d8-1e9174f8e099"
      },
      "execution_count": 96,
      "outputs": [
        {
          "output_type": "stream",
          "name": "stdout",
          "text": [
            "🧹 DB antigo removido: hermes-reply-fase5/sensors.db\n",
            "✅ Schema aplicado.\n",
            "OK -> sites: 2 linhas\n",
            "OK -> assets: 5 linhas\n",
            "OK -> sensor_types: 3 linhas\n",
            "OK -> units: 3 linhas\n",
            "OK -> sensors: 15 linhas\n",
            "OK -> thresholds: 15 linhas\n",
            "OK -> readings: 9000 linhas\n"
          ]
        },
        {
          "output_type": "display_data",
          "data": {
            "text/plain": [
              "   asset_id     asset_name  leituras\n",
              "0         1  Compressor-01      1800\n",
              "1         2       Motor-01      1800\n",
              "2         3     Turbine-01      1800\n",
              "3         4        Pump-01      1800\n",
              "4         5         Fan-01      1800"
            ],
            "text/html": [
              "\n",
              "  <div id=\"df-0d98d60e-febe-430b-99d7-e3d12e8c86cb\" class=\"colab-df-container\">\n",
              "    <div>\n",
              "<style scoped>\n",
              "    .dataframe tbody tr th:only-of-type {\n",
              "        vertical-align: middle;\n",
              "    }\n",
              "\n",
              "    .dataframe tbody tr th {\n",
              "        vertical-align: top;\n",
              "    }\n",
              "\n",
              "    .dataframe thead th {\n",
              "        text-align: right;\n",
              "    }\n",
              "</style>\n",
              "<table border=\"1\" class=\"dataframe\">\n",
              "  <thead>\n",
              "    <tr style=\"text-align: right;\">\n",
              "      <th></th>\n",
              "      <th>asset_id</th>\n",
              "      <th>asset_name</th>\n",
              "      <th>leituras</th>\n",
              "    </tr>\n",
              "  </thead>\n",
              "  <tbody>\n",
              "    <tr>\n",
              "      <th>0</th>\n",
              "      <td>1</td>\n",
              "      <td>Compressor-01</td>\n",
              "      <td>1800</td>\n",
              "    </tr>\n",
              "    <tr>\n",
              "      <th>1</th>\n",
              "      <td>2</td>\n",
              "      <td>Motor-01</td>\n",
              "      <td>1800</td>\n",
              "    </tr>\n",
              "    <tr>\n",
              "      <th>2</th>\n",
              "      <td>3</td>\n",
              "      <td>Turbine-01</td>\n",
              "      <td>1800</td>\n",
              "    </tr>\n",
              "    <tr>\n",
              "      <th>3</th>\n",
              "      <td>4</td>\n",
              "      <td>Pump-01</td>\n",
              "      <td>1800</td>\n",
              "    </tr>\n",
              "    <tr>\n",
              "      <th>4</th>\n",
              "      <td>5</td>\n",
              "      <td>Fan-01</td>\n",
              "      <td>1800</td>\n",
              "    </tr>\n",
              "  </tbody>\n",
              "</table>\n",
              "</div>\n",
              "    <div class=\"colab-df-buttons\">\n",
              "\n",
              "  <div class=\"colab-df-container\">\n",
              "    <button class=\"colab-df-convert\" onclick=\"convertToInteractive('df-0d98d60e-febe-430b-99d7-e3d12e8c86cb')\"\n",
              "            title=\"Convert this dataframe to an interactive table.\"\n",
              "            style=\"display:none;\">\n",
              "\n",
              "  <svg xmlns=\"http://www.w3.org/2000/svg\" height=\"24px\" viewBox=\"0 -960 960 960\">\n",
              "    <path d=\"M120-120v-720h720v720H120Zm60-500h600v-160H180v160Zm220 220h160v-160H400v160Zm0 220h160v-160H400v160ZM180-400h160v-160H180v160Zm440 0h160v-160H620v160ZM180-180h160v-160H180v160Zm440 0h160v-160H620v160Z\"/>\n",
              "  </svg>\n",
              "    </button>\n",
              "\n",
              "  <style>\n",
              "    .colab-df-container {\n",
              "      display:flex;\n",
              "      gap: 12px;\n",
              "    }\n",
              "\n",
              "    .colab-df-convert {\n",
              "      background-color: #E8F0FE;\n",
              "      border: none;\n",
              "      border-radius: 50%;\n",
              "      cursor: pointer;\n",
              "      display: none;\n",
              "      fill: #1967D2;\n",
              "      height: 32px;\n",
              "      padding: 0 0 0 0;\n",
              "      width: 32px;\n",
              "    }\n",
              "\n",
              "    .colab-df-convert:hover {\n",
              "      background-color: #E2EBFA;\n",
              "      box-shadow: 0px 1px 2px rgba(60, 64, 67, 0.3), 0px 1px 3px 1px rgba(60, 64, 67, 0.15);\n",
              "      fill: #174EA6;\n",
              "    }\n",
              "\n",
              "    .colab-df-buttons div {\n",
              "      margin-bottom: 4px;\n",
              "    }\n",
              "\n",
              "    [theme=dark] .colab-df-convert {\n",
              "      background-color: #3B4455;\n",
              "      fill: #D2E3FC;\n",
              "    }\n",
              "\n",
              "    [theme=dark] .colab-df-convert:hover {\n",
              "      background-color: #434B5C;\n",
              "      box-shadow: 0px 1px 3px 1px rgba(0, 0, 0, 0.15);\n",
              "      filter: drop-shadow(0px 1px 2px rgba(0, 0, 0, 0.3));\n",
              "      fill: #FFFFFF;\n",
              "    }\n",
              "  </style>\n",
              "\n",
              "    <script>\n",
              "      const buttonEl =\n",
              "        document.querySelector('#df-0d98d60e-febe-430b-99d7-e3d12e8c86cb button.colab-df-convert');\n",
              "      buttonEl.style.display =\n",
              "        google.colab.kernel.accessAllowed ? 'block' : 'none';\n",
              "\n",
              "      async function convertToInteractive(key) {\n",
              "        const element = document.querySelector('#df-0d98d60e-febe-430b-99d7-e3d12e8c86cb');\n",
              "        const dataTable =\n",
              "          await google.colab.kernel.invokeFunction('convertToInteractive',\n",
              "                                                    [key], {});\n",
              "        if (!dataTable) return;\n",
              "\n",
              "        const docLinkHtml = 'Like what you see? Visit the ' +\n",
              "          '<a target=\"_blank\" href=https://colab.research.google.com/notebooks/data_table.ipynb>data table notebook</a>'\n",
              "          + ' to learn more about interactive tables.';\n",
              "        element.innerHTML = '';\n",
              "        dataTable['output_type'] = 'display_data';\n",
              "        await google.colab.output.renderOutput(dataTable, element);\n",
              "        const docLink = document.createElement('div');\n",
              "        docLink.innerHTML = docLinkHtml;\n",
              "        element.appendChild(docLink);\n",
              "      }\n",
              "    </script>\n",
              "  </div>\n",
              "\n",
              "\n",
              "    <div id=\"df-590a25cf-c666-49c0-9ccd-b1358e2b2273\">\n",
              "      <button class=\"colab-df-quickchart\" onclick=\"quickchart('df-590a25cf-c666-49c0-9ccd-b1358e2b2273')\"\n",
              "                title=\"Suggest charts\"\n",
              "                style=\"display:none;\">\n",
              "\n",
              "<svg xmlns=\"http://www.w3.org/2000/svg\" height=\"24px\"viewBox=\"0 0 24 24\"\n",
              "     width=\"24px\">\n",
              "    <g>\n",
              "        <path d=\"M19 3H5c-1.1 0-2 .9-2 2v14c0 1.1.9 2 2 2h14c1.1 0 2-.9 2-2V5c0-1.1-.9-2-2-2zM9 17H7v-7h2v7zm4 0h-2V7h2v10zm4 0h-2v-4h2v4z\"/>\n",
              "    </g>\n",
              "</svg>\n",
              "      </button>\n",
              "\n",
              "<style>\n",
              "  .colab-df-quickchart {\n",
              "      --bg-color: #E8F0FE;\n",
              "      --fill-color: #1967D2;\n",
              "      --hover-bg-color: #E2EBFA;\n",
              "      --hover-fill-color: #174EA6;\n",
              "      --disabled-fill-color: #AAA;\n",
              "      --disabled-bg-color: #DDD;\n",
              "  }\n",
              "\n",
              "  [theme=dark] .colab-df-quickchart {\n",
              "      --bg-color: #3B4455;\n",
              "      --fill-color: #D2E3FC;\n",
              "      --hover-bg-color: #434B5C;\n",
              "      --hover-fill-color: #FFFFFF;\n",
              "      --disabled-bg-color: #3B4455;\n",
              "      --disabled-fill-color: #666;\n",
              "  }\n",
              "\n",
              "  .colab-df-quickchart {\n",
              "    background-color: var(--bg-color);\n",
              "    border: none;\n",
              "    border-radius: 50%;\n",
              "    cursor: pointer;\n",
              "    display: none;\n",
              "    fill: var(--fill-color);\n",
              "    height: 32px;\n",
              "    padding: 0;\n",
              "    width: 32px;\n",
              "  }\n",
              "\n",
              "  .colab-df-quickchart:hover {\n",
              "    background-color: var(--hover-bg-color);\n",
              "    box-shadow: 0 1px 2px rgba(60, 64, 67, 0.3), 0 1px 3px 1px rgba(60, 64, 67, 0.15);\n",
              "    fill: var(--button-hover-fill-color);\n",
              "  }\n",
              "\n",
              "  .colab-df-quickchart-complete:disabled,\n",
              "  .colab-df-quickchart-complete:disabled:hover {\n",
              "    background-color: var(--disabled-bg-color);\n",
              "    fill: var(--disabled-fill-color);\n",
              "    box-shadow: none;\n",
              "  }\n",
              "\n",
              "  .colab-df-spinner {\n",
              "    border: 2px solid var(--fill-color);\n",
              "    border-color: transparent;\n",
              "    border-bottom-color: var(--fill-color);\n",
              "    animation:\n",
              "      spin 1s steps(1) infinite;\n",
              "  }\n",
              "\n",
              "  @keyframes spin {\n",
              "    0% {\n",
              "      border-color: transparent;\n",
              "      border-bottom-color: var(--fill-color);\n",
              "      border-left-color: var(--fill-color);\n",
              "    }\n",
              "    20% {\n",
              "      border-color: transparent;\n",
              "      border-left-color: var(--fill-color);\n",
              "      border-top-color: var(--fill-color);\n",
              "    }\n",
              "    30% {\n",
              "      border-color: transparent;\n",
              "      border-left-color: var(--fill-color);\n",
              "      border-top-color: var(--fill-color);\n",
              "      border-right-color: var(--fill-color);\n",
              "    }\n",
              "    40% {\n",
              "      border-color: transparent;\n",
              "      border-right-color: var(--fill-color);\n",
              "      border-top-color: var(--fill-color);\n",
              "    }\n",
              "    60% {\n",
              "      border-color: transparent;\n",
              "      border-right-color: var(--fill-color);\n",
              "    }\n",
              "    80% {\n",
              "      border-color: transparent;\n",
              "      border-right-color: var(--fill-color);\n",
              "      border-bottom-color: var(--fill-color);\n",
              "    }\n",
              "    90% {\n",
              "      border-color: transparent;\n",
              "      border-bottom-color: var(--fill-color);\n",
              "    }\n",
              "  }\n",
              "</style>\n",
              "\n",
              "      <script>\n",
              "        async function quickchart(key) {\n",
              "          const quickchartButtonEl =\n",
              "            document.querySelector('#' + key + ' button');\n",
              "          quickchartButtonEl.disabled = true;  // To prevent multiple clicks.\n",
              "          quickchartButtonEl.classList.add('colab-df-spinner');\n",
              "          try {\n",
              "            const charts = await google.colab.kernel.invokeFunction(\n",
              "                'suggestCharts', [key], {});\n",
              "          } catch (error) {\n",
              "            console.error('Error during call to suggestCharts:', error);\n",
              "          }\n",
              "          quickchartButtonEl.classList.remove('colab-df-spinner');\n",
              "          quickchartButtonEl.classList.add('colab-df-quickchart-complete');\n",
              "        }\n",
              "        (() => {\n",
              "          let quickchartButtonEl =\n",
              "            document.querySelector('#df-590a25cf-c666-49c0-9ccd-b1358e2b2273 button');\n",
              "          quickchartButtonEl.style.display =\n",
              "            google.colab.kernel.accessAllowed ? 'block' : 'none';\n",
              "        })();\n",
              "      </script>\n",
              "    </div>\n",
              "\n",
              "    </div>\n",
              "  </div>\n"
            ],
            "application/vnd.google.colaboratory.intrinsic+json": {
              "type": "dataframe",
              "summary": "{\n  \"name\": \"print(\\\"\\ud83c\\udf89 Banco pronto em:\\\", DB_PATH)\",\n  \"rows\": 5,\n  \"fields\": [\n    {\n      \"column\": \"asset_id\",\n      \"properties\": {\n        \"dtype\": \"number\",\n        \"std\": 1,\n        \"min\": 1,\n        \"max\": 5,\n        \"num_unique_values\": 5,\n        \"samples\": [\n          2,\n          5,\n          3\n        ],\n        \"semantic_type\": \"\",\n        \"description\": \"\"\n      }\n    },\n    {\n      \"column\": \"asset_name\",\n      \"properties\": {\n        \"dtype\": \"string\",\n        \"num_unique_values\": 5,\n        \"samples\": [\n          \"Motor-01\",\n          \"Fan-01\",\n          \"Turbine-01\"\n        ],\n        \"semantic_type\": \"\",\n        \"description\": \"\"\n      }\n    },\n    {\n      \"column\": \"leituras\",\n      \"properties\": {\n        \"dtype\": \"number\",\n        \"std\": 0,\n        \"min\": 1800,\n        \"max\": 1800,\n        \"num_unique_values\": 1,\n        \"samples\": [\n          1800\n        ],\n        \"semantic_type\": \"\",\n        \"description\": \"\"\n      }\n    }\n  ]\n}"
            }
          },
          "metadata": {}
        },
        {
          "output_type": "stream",
          "name": "stdout",
          "text": [
            "🎉 Banco pronto em: hermes-reply-fase5/sensors.db\n"
          ]
        }
      ]
    },
    {
      "cell_type": "code",
      "source": [
        "from sqlalchemy import create_engine, MetaData\n",
        "from sqlalchemy_schemadisplay import create_schema_graph\n",
        "import os\n",
        "\n",
        "PROJECT = \"hermes-reply-fase5\"\n",
        "DB_PATH = os.path.join(PROJECT, \"sensors.db\")\n",
        "IMG_PATH = os.path.join(PROJECT, \"images\", \"er_diagram.png\")\n",
        "\n",
        "# cria engine para o banco SQLite\n",
        "engine = create_engine(f\"sqlite:///{DB_PATH}\")\n",
        "metadata = MetaData()\n",
        "metadata.reflect(bind=engine)\n",
        "\n",
        "graph = create_schema_graph(\n",
        "    engine=engine,          # <-- obrigatório nesta versão\n",
        "    metadata=metadata,\n",
        "    show_datatypes=False,\n",
        "    show_indexes=False,\n",
        "    rankdir='LR',\n",
        "    concentrate=False\n",
        ")\n",
        "\n",
        "graph.write_png(IMG_PATH)\n",
        "print(\"✅ DER salvo em:\", IMG_PATH)\n"
      ],
      "metadata": {
        "colab": {
          "base_uri": "https://localhost:8080/"
        },
        "id": "yBVfhte7GsQB",
        "outputId": "7c56f911-9733-4a5d-98f9-0a1eab2370c9"
      },
      "execution_count": 97,
      "outputs": [
        {
          "output_type": "stream",
          "name": "stdout",
          "text": [
            "✅ DER salvo em: hermes-reply-fase5/images/er_diagram.png\n"
          ]
        }
      ]
    },
    {
      "cell_type": "code",
      "source": [
        "import pandas as pd\n",
        "import numpy as np\n",
        "\n",
        "# carregar tabelas necessárias\n",
        "readings = pd.read_sql(\"SELECT * FROM readings;\", con)\n",
        "sensors   = pd.read_sql(\"SELECT sensor_id, asset_id, sensor_type_id FROM sensors;\", con)\n",
        "types_    = pd.read_sql(\"SELECT sensor_type_id, name FROM sensor_types;\", con)\n",
        "\n",
        "# juntar e ordenar\n",
        "df = readings.merge(sensors, on=\"sensor_id\").merge(types_, on=\"sensor_type_id\")\n",
        "df[\"ts\"] = pd.to_datetime(df[\"ts\"])\n",
        "df = df.sort_values([\"asset_id\",\"ts\"])\n",
        "\n",
        "# pivotar -> cada linha = asset+tempo, colunas = temperature/vibration/current\n",
        "wide = (df.pivot_table(index=[\"asset_id\",\"ts\"], columns=\"name\", values=\"value\")\n",
        "          .reset_index()\n",
        "          .dropna()\n",
        "          .sort_values([\"asset_id\",\"ts\"]))\n",
        "\n",
        "# criar lags (valor anterior de cada sensor)\n",
        "for col in [\"temperature\",\"vibration\",\"current\"]:\n",
        "    wide[col+\"_lag1\"] = wide.groupby(\"asset_id\")[col].shift(1)\n",
        "\n",
        "wide = wide.dropna()\n",
        "\n",
        "# criar rótulo needs_maintenance (simulado)\n",
        "wide[\"needs_maintenance\"] = (\n",
        "    (wide[\"temperature\"] > 80) &\n",
        "    (wide[\"vibration\"]   > 8)  &\n",
        "    (wide[\"current\"]     > 15)\n",
        ").astype(int)\n",
        "\n",
        "# adicionar 5% de ruído (para simular falhas)\n",
        "rng = np.random.default_rng(42)\n",
        "flip = rng.choice(wide.index, size=int(0.05*len(wide)), replace=False)\n",
        "wide.loc[flip, \"needs_maintenance\"] = 1 - wide.loc[flip, \"needs_maintenance\"]\n",
        "\n",
        "print(\"✅ Dataset preparado\")\n",
        "wide.head()\n"
      ],
      "metadata": {
        "colab": {
          "base_uri": "https://localhost:8080/",
          "height": 224
        },
        "id": "yDyDX-NHHAlD",
        "outputId": "de01fe2a-c2f9-4c00-e5b3-e18f7427629f"
      },
      "execution_count": 98,
      "outputs": [
        {
          "output_type": "stream",
          "name": "stdout",
          "text": [
            "✅ Dataset preparado\n"
          ]
        },
        {
          "output_type": "execute_result",
          "data": {
            "text/plain": [
              "name  asset_id                  ts  current  temperature  vibration  \\\n",
              "1            1 2025-08-01 08:01:00    8.918       64.458      4.912   \n",
              "2            1 2025-08-01 08:02:00    8.462       65.364      5.495   \n",
              "3            1 2025-08-01 08:03:00    9.019       66.083      5.425   \n",
              "4            1 2025-08-01 08:04:00    9.113       64.444      4.370   \n",
              "5            1 2025-08-01 08:05:00    9.059       65.787      4.941   \n",
              "\n",
              "name  temperature_lag1  vibration_lag1  current_lag1  needs_maintenance  \n",
              "1               67.536           4.019         8.239                  0  \n",
              "2               64.458           4.912         8.918                  0  \n",
              "3               65.364           5.495         8.462                  0  \n",
              "4               66.083           5.425         9.019                  0  \n",
              "5               64.444           4.370         9.113                  0  "
            ],
            "text/html": [
              "\n",
              "  <div id=\"df-26cdf9bc-0a76-422d-b095-22ea0d1ec74b\" class=\"colab-df-container\">\n",
              "    <div>\n",
              "<style scoped>\n",
              "    .dataframe tbody tr th:only-of-type {\n",
              "        vertical-align: middle;\n",
              "    }\n",
              "\n",
              "    .dataframe tbody tr th {\n",
              "        vertical-align: top;\n",
              "    }\n",
              "\n",
              "    .dataframe thead th {\n",
              "        text-align: right;\n",
              "    }\n",
              "</style>\n",
              "<table border=\"1\" class=\"dataframe\">\n",
              "  <thead>\n",
              "    <tr style=\"text-align: right;\">\n",
              "      <th>name</th>\n",
              "      <th>asset_id</th>\n",
              "      <th>ts</th>\n",
              "      <th>current</th>\n",
              "      <th>temperature</th>\n",
              "      <th>vibration</th>\n",
              "      <th>temperature_lag1</th>\n",
              "      <th>vibration_lag1</th>\n",
              "      <th>current_lag1</th>\n",
              "      <th>needs_maintenance</th>\n",
              "    </tr>\n",
              "  </thead>\n",
              "  <tbody>\n",
              "    <tr>\n",
              "      <th>1</th>\n",
              "      <td>1</td>\n",
              "      <td>2025-08-01 08:01:00</td>\n",
              "      <td>8.918</td>\n",
              "      <td>64.458</td>\n",
              "      <td>4.912</td>\n",
              "      <td>67.536</td>\n",
              "      <td>4.019</td>\n",
              "      <td>8.239</td>\n",
              "      <td>0</td>\n",
              "    </tr>\n",
              "    <tr>\n",
              "      <th>2</th>\n",
              "      <td>1</td>\n",
              "      <td>2025-08-01 08:02:00</td>\n",
              "      <td>8.462</td>\n",
              "      <td>65.364</td>\n",
              "      <td>5.495</td>\n",
              "      <td>64.458</td>\n",
              "      <td>4.912</td>\n",
              "      <td>8.918</td>\n",
              "      <td>0</td>\n",
              "    </tr>\n",
              "    <tr>\n",
              "      <th>3</th>\n",
              "      <td>1</td>\n",
              "      <td>2025-08-01 08:03:00</td>\n",
              "      <td>9.019</td>\n",
              "      <td>66.083</td>\n",
              "      <td>5.425</td>\n",
              "      <td>65.364</td>\n",
              "      <td>5.495</td>\n",
              "      <td>8.462</td>\n",
              "      <td>0</td>\n",
              "    </tr>\n",
              "    <tr>\n",
              "      <th>4</th>\n",
              "      <td>1</td>\n",
              "      <td>2025-08-01 08:04:00</td>\n",
              "      <td>9.113</td>\n",
              "      <td>64.444</td>\n",
              "      <td>4.370</td>\n",
              "      <td>66.083</td>\n",
              "      <td>5.425</td>\n",
              "      <td>9.019</td>\n",
              "      <td>0</td>\n",
              "    </tr>\n",
              "    <tr>\n",
              "      <th>5</th>\n",
              "      <td>1</td>\n",
              "      <td>2025-08-01 08:05:00</td>\n",
              "      <td>9.059</td>\n",
              "      <td>65.787</td>\n",
              "      <td>4.941</td>\n",
              "      <td>64.444</td>\n",
              "      <td>4.370</td>\n",
              "      <td>9.113</td>\n",
              "      <td>0</td>\n",
              "    </tr>\n",
              "  </tbody>\n",
              "</table>\n",
              "</div>\n",
              "    <div class=\"colab-df-buttons\">\n",
              "\n",
              "  <div class=\"colab-df-container\">\n",
              "    <button class=\"colab-df-convert\" onclick=\"convertToInteractive('df-26cdf9bc-0a76-422d-b095-22ea0d1ec74b')\"\n",
              "            title=\"Convert this dataframe to an interactive table.\"\n",
              "            style=\"display:none;\">\n",
              "\n",
              "  <svg xmlns=\"http://www.w3.org/2000/svg\" height=\"24px\" viewBox=\"0 -960 960 960\">\n",
              "    <path d=\"M120-120v-720h720v720H120Zm60-500h600v-160H180v160Zm220 220h160v-160H400v160Zm0 220h160v-160H400v160ZM180-400h160v-160H180v160Zm440 0h160v-160H620v160ZM180-180h160v-160H180v160Zm440 0h160v-160H620v160Z\"/>\n",
              "  </svg>\n",
              "    </button>\n",
              "\n",
              "  <style>\n",
              "    .colab-df-container {\n",
              "      display:flex;\n",
              "      gap: 12px;\n",
              "    }\n",
              "\n",
              "    .colab-df-convert {\n",
              "      background-color: #E8F0FE;\n",
              "      border: none;\n",
              "      border-radius: 50%;\n",
              "      cursor: pointer;\n",
              "      display: none;\n",
              "      fill: #1967D2;\n",
              "      height: 32px;\n",
              "      padding: 0 0 0 0;\n",
              "      width: 32px;\n",
              "    }\n",
              "\n",
              "    .colab-df-convert:hover {\n",
              "      background-color: #E2EBFA;\n",
              "      box-shadow: 0px 1px 2px rgba(60, 64, 67, 0.3), 0px 1px 3px 1px rgba(60, 64, 67, 0.15);\n",
              "      fill: #174EA6;\n",
              "    }\n",
              "\n",
              "    .colab-df-buttons div {\n",
              "      margin-bottom: 4px;\n",
              "    }\n",
              "\n",
              "    [theme=dark] .colab-df-convert {\n",
              "      background-color: #3B4455;\n",
              "      fill: #D2E3FC;\n",
              "    }\n",
              "\n",
              "    [theme=dark] .colab-df-convert:hover {\n",
              "      background-color: #434B5C;\n",
              "      box-shadow: 0px 1px 3px 1px rgba(0, 0, 0, 0.15);\n",
              "      filter: drop-shadow(0px 1px 2px rgba(0, 0, 0, 0.3));\n",
              "      fill: #FFFFFF;\n",
              "    }\n",
              "  </style>\n",
              "\n",
              "    <script>\n",
              "      const buttonEl =\n",
              "        document.querySelector('#df-26cdf9bc-0a76-422d-b095-22ea0d1ec74b button.colab-df-convert');\n",
              "      buttonEl.style.display =\n",
              "        google.colab.kernel.accessAllowed ? 'block' : 'none';\n",
              "\n",
              "      async function convertToInteractive(key) {\n",
              "        const element = document.querySelector('#df-26cdf9bc-0a76-422d-b095-22ea0d1ec74b');\n",
              "        const dataTable =\n",
              "          await google.colab.kernel.invokeFunction('convertToInteractive',\n",
              "                                                    [key], {});\n",
              "        if (!dataTable) return;\n",
              "\n",
              "        const docLinkHtml = 'Like what you see? Visit the ' +\n",
              "          '<a target=\"_blank\" href=https://colab.research.google.com/notebooks/data_table.ipynb>data table notebook</a>'\n",
              "          + ' to learn more about interactive tables.';\n",
              "        element.innerHTML = '';\n",
              "        dataTable['output_type'] = 'display_data';\n",
              "        await google.colab.output.renderOutput(dataTable, element);\n",
              "        const docLink = document.createElement('div');\n",
              "        docLink.innerHTML = docLinkHtml;\n",
              "        element.appendChild(docLink);\n",
              "      }\n",
              "    </script>\n",
              "  </div>\n",
              "\n",
              "\n",
              "    <div id=\"df-d6f67d36-8a37-4417-ab85-07564315526a\">\n",
              "      <button class=\"colab-df-quickchart\" onclick=\"quickchart('df-d6f67d36-8a37-4417-ab85-07564315526a')\"\n",
              "                title=\"Suggest charts\"\n",
              "                style=\"display:none;\">\n",
              "\n",
              "<svg xmlns=\"http://www.w3.org/2000/svg\" height=\"24px\"viewBox=\"0 0 24 24\"\n",
              "     width=\"24px\">\n",
              "    <g>\n",
              "        <path d=\"M19 3H5c-1.1 0-2 .9-2 2v14c0 1.1.9 2 2 2h14c1.1 0 2-.9 2-2V5c0-1.1-.9-2-2-2zM9 17H7v-7h2v7zm4 0h-2V7h2v10zm4 0h-2v-4h2v4z\"/>\n",
              "    </g>\n",
              "</svg>\n",
              "      </button>\n",
              "\n",
              "<style>\n",
              "  .colab-df-quickchart {\n",
              "      --bg-color: #E8F0FE;\n",
              "      --fill-color: #1967D2;\n",
              "      --hover-bg-color: #E2EBFA;\n",
              "      --hover-fill-color: #174EA6;\n",
              "      --disabled-fill-color: #AAA;\n",
              "      --disabled-bg-color: #DDD;\n",
              "  }\n",
              "\n",
              "  [theme=dark] .colab-df-quickchart {\n",
              "      --bg-color: #3B4455;\n",
              "      --fill-color: #D2E3FC;\n",
              "      --hover-bg-color: #434B5C;\n",
              "      --hover-fill-color: #FFFFFF;\n",
              "      --disabled-bg-color: #3B4455;\n",
              "      --disabled-fill-color: #666;\n",
              "  }\n",
              "\n",
              "  .colab-df-quickchart {\n",
              "    background-color: var(--bg-color);\n",
              "    border: none;\n",
              "    border-radius: 50%;\n",
              "    cursor: pointer;\n",
              "    display: none;\n",
              "    fill: var(--fill-color);\n",
              "    height: 32px;\n",
              "    padding: 0;\n",
              "    width: 32px;\n",
              "  }\n",
              "\n",
              "  .colab-df-quickchart:hover {\n",
              "    background-color: var(--hover-bg-color);\n",
              "    box-shadow: 0 1px 2px rgba(60, 64, 67, 0.3), 0 1px 3px 1px rgba(60, 64, 67, 0.15);\n",
              "    fill: var(--button-hover-fill-color);\n",
              "  }\n",
              "\n",
              "  .colab-df-quickchart-complete:disabled,\n",
              "  .colab-df-quickchart-complete:disabled:hover {\n",
              "    background-color: var(--disabled-bg-color);\n",
              "    fill: var(--disabled-fill-color);\n",
              "    box-shadow: none;\n",
              "  }\n",
              "\n",
              "  .colab-df-spinner {\n",
              "    border: 2px solid var(--fill-color);\n",
              "    border-color: transparent;\n",
              "    border-bottom-color: var(--fill-color);\n",
              "    animation:\n",
              "      spin 1s steps(1) infinite;\n",
              "  }\n",
              "\n",
              "  @keyframes spin {\n",
              "    0% {\n",
              "      border-color: transparent;\n",
              "      border-bottom-color: var(--fill-color);\n",
              "      border-left-color: var(--fill-color);\n",
              "    }\n",
              "    20% {\n",
              "      border-color: transparent;\n",
              "      border-left-color: var(--fill-color);\n",
              "      border-top-color: var(--fill-color);\n",
              "    }\n",
              "    30% {\n",
              "      border-color: transparent;\n",
              "      border-left-color: var(--fill-color);\n",
              "      border-top-color: var(--fill-color);\n",
              "      border-right-color: var(--fill-color);\n",
              "    }\n",
              "    40% {\n",
              "      border-color: transparent;\n",
              "      border-right-color: var(--fill-color);\n",
              "      border-top-color: var(--fill-color);\n",
              "    }\n",
              "    60% {\n",
              "      border-color: transparent;\n",
              "      border-right-color: var(--fill-color);\n",
              "    }\n",
              "    80% {\n",
              "      border-color: transparent;\n",
              "      border-right-color: var(--fill-color);\n",
              "      border-bottom-color: var(--fill-color);\n",
              "    }\n",
              "    90% {\n",
              "      border-color: transparent;\n",
              "      border-bottom-color: var(--fill-color);\n",
              "    }\n",
              "  }\n",
              "</style>\n",
              "\n",
              "      <script>\n",
              "        async function quickchart(key) {\n",
              "          const quickchartButtonEl =\n",
              "            document.querySelector('#' + key + ' button');\n",
              "          quickchartButtonEl.disabled = true;  // To prevent multiple clicks.\n",
              "          quickchartButtonEl.classList.add('colab-df-spinner');\n",
              "          try {\n",
              "            const charts = await google.colab.kernel.invokeFunction(\n",
              "                'suggestCharts', [key], {});\n",
              "          } catch (error) {\n",
              "            console.error('Error during call to suggestCharts:', error);\n",
              "          }\n",
              "          quickchartButtonEl.classList.remove('colab-df-spinner');\n",
              "          quickchartButtonEl.classList.add('colab-df-quickchart-complete');\n",
              "        }\n",
              "        (() => {\n",
              "          let quickchartButtonEl =\n",
              "            document.querySelector('#df-d6f67d36-8a37-4417-ab85-07564315526a button');\n",
              "          quickchartButtonEl.style.display =\n",
              "            google.colab.kernel.accessAllowed ? 'block' : 'none';\n",
              "        })();\n",
              "      </script>\n",
              "    </div>\n",
              "\n",
              "    </div>\n",
              "  </div>\n"
            ],
            "application/vnd.google.colaboratory.intrinsic+json": {
              "type": "dataframe",
              "variable_name": "wide",
              "summary": "{\n  \"name\": \"wide\",\n  \"rows\": 2995,\n  \"fields\": [\n    {\n      \"column\": \"asset_id\",\n      \"properties\": {\n        \"dtype\": \"number\",\n        \"std\": 1,\n        \"min\": 1,\n        \"max\": 5,\n        \"num_unique_values\": 5,\n        \"samples\": [\n          2,\n          5,\n          3\n        ],\n        \"semantic_type\": \"\",\n        \"description\": \"\"\n      }\n    },\n    {\n      \"column\": \"ts\",\n      \"properties\": {\n        \"dtype\": \"date\",\n        \"min\": \"2025-08-01 08:01:00\",\n        \"max\": \"2025-08-01 17:59:00\",\n        \"num_unique_values\": 599,\n        \"samples\": [\n          \"2025-08-01 09:51:00\",\n          \"2025-08-01 15:00:00\",\n          \"2025-08-01 17:25:00\"\n        ],\n        \"semantic_type\": \"\",\n        \"description\": \"\"\n      }\n    },\n    {\n      \"column\": \"current\",\n      \"properties\": {\n        \"dtype\": \"number\",\n        \"std\": 0.6892664385019442,\n        \"min\": 6.609,\n        \"max\": 11.62,\n        \"num_unique_values\": 1763,\n        \"samples\": [\n          8.855,\n          8.386,\n          7.757\n        ],\n        \"semantic_type\": \"\",\n        \"description\": \"\"\n      }\n    },\n    {\n      \"column\": \"temperature\",\n      \"properties\": {\n        \"dtype\": \"number\",\n        \"std\": 3.8324323990400537,\n        \"min\": 55.727,\n        \"max\": 75.241,\n        \"num_unique_values\": 2714,\n        \"samples\": [\n          60.13,\n          61.161,\n          69.742\n        ],\n        \"semantic_type\": \"\",\n        \"description\": \"\"\n      }\n    },\n    {\n      \"column\": \"vibration\",\n      \"properties\": {\n        \"dtype\": \"number\",\n        \"std\": 0.47506269116529515,\n        \"min\": 4.0,\n        \"max\": 6.733,\n        \"num_unique_values\": 1320,\n        \"samples\": [\n          4.304,\n          4.986,\n          4.441\n        ],\n        \"semantic_type\": \"\",\n        \"description\": \"\"\n      }\n    },\n    {\n      \"column\": \"temperature_lag1\",\n      \"properties\": {\n        \"dtype\": \"number\",\n        \"std\": 3.83252374162877,\n        \"min\": 55.727,\n        \"max\": 75.241,\n        \"num_unique_values\": 2715,\n        \"samples\": [\n          61.112,\n          69.905,\n          70.655\n        ],\n        \"semantic_type\": \"\",\n        \"description\": \"\"\n      }\n    },\n    {\n      \"column\": \"vibration_lag1\",\n      \"properties\": {\n        \"dtype\": \"number\",\n        \"std\": 0.47488296374375877,\n        \"min\": 4.0,\n        \"max\": 6.733,\n        \"num_unique_values\": 1319,\n        \"samples\": [\n          4.24,\n          6.128,\n          4.733\n        ],\n        \"semantic_type\": \"\",\n        \"description\": \"\"\n      }\n    },\n    {\n      \"column\": \"current_lag1\",\n      \"properties\": {\n        \"dtype\": \"number\",\n        \"std\": 0.690302023866411,\n        \"min\": 6.609,\n        \"max\": 11.62,\n        \"num_unique_values\": 1764,\n        \"samples\": [\n          9.588,\n          7.627,\n          8.964\n        ],\n        \"semantic_type\": \"\",\n        \"description\": \"\"\n      }\n    },\n    {\n      \"column\": \"needs_maintenance\",\n      \"properties\": {\n        \"dtype\": \"number\",\n        \"std\": 0,\n        \"min\": 0,\n        \"max\": 1,\n        \"num_unique_values\": 2,\n        \"samples\": [\n          1,\n          0\n        ],\n        \"semantic_type\": \"\",\n        \"description\": \"\"\n      }\n    }\n  ]\n}"
            }
          },
          "metadata": {},
          "execution_count": 98
        }
      ]
    },
    {
      "cell_type": "code",
      "source": [
        "from sklearn.model_selection import train_test_split\n",
        "from sklearn.ensemble import RandomForestClassifier\n",
        "from sklearn.metrics import classification_report, ConfusionMatrixDisplay\n",
        "import matplotlib.pyplot as plt\n",
        "import os\n",
        "\n",
        "# features e target\n",
        "features = [\"temperature\",\"vibration\",\"current\",\n",
        "            \"temperature_lag1\",\"vibration_lag1\",\"current_lag1\"]\n",
        "X = wide[features]\n",
        "y = wide[\"needs_maintenance\"]\n",
        "\n",
        "# treino e teste\n",
        "X_train, X_test, y_train, y_test = train_test_split(\n",
        "    X, y, test_size=0.2, stratify=y, random_state=0\n",
        ")\n",
        "\n",
        "# modelo\n",
        "clf = RandomForestClassifier(n_estimators=200, random_state=0)\n",
        "clf.fit(X_train, y_train)\n",
        "\n",
        "# relatório\n",
        "print(\"📊 Métricas do modelo:\")\n",
        "print(classification_report(y_test, clf.predict(X_test)))\n",
        "\n",
        "# matriz de confusão\n",
        "disp = ConfusionMatrixDisplay.from_estimator(clf, X_test, y_test)\n",
        "plt.title(\"Matriz de Confusão - RandomForest\")\n",
        "IMG_CM = os.path.join(PROJECT, \"images\", \"confusion_matrix.png\")\n",
        "plt.savefig(IMG_CM, dpi=150, bbox_inches=\"tight\")\n",
        "plt.show()\n",
        "\n",
        "print(\"✅ Gráfico salvo em:\", IMG_CM)\n"
      ],
      "metadata": {
        "colab": {
          "base_uri": "https://localhost:8080/",
          "height": 787
        },
        "id": "_uBzsz1LHOSV",
        "outputId": "05b31a6d-09d8-42de-f4d7-aa43d5a29dca"
      },
      "execution_count": 99,
      "outputs": [
        {
          "output_type": "stream",
          "name": "stdout",
          "text": [
            "📊 Métricas do modelo:\n",
            "              precision    recall  f1-score   support\n",
            "\n",
            "           0       0.95      1.00      0.97       569\n",
            "           1       0.00      0.00      0.00        30\n",
            "\n",
            "    accuracy                           0.95       599\n",
            "   macro avg       0.47      0.50      0.49       599\n",
            "weighted avg       0.90      0.95      0.93       599\n",
            "\n"
          ]
        },
        {
          "output_type": "stream",
          "name": "stderr",
          "text": [
            "/usr/local/lib/python3.12/dist-packages/sklearn/metrics/_classification.py:1565: UndefinedMetricWarning: Precision is ill-defined and being set to 0.0 in labels with no predicted samples. Use `zero_division` parameter to control this behavior.\n",
            "  _warn_prf(average, modifier, f\"{metric.capitalize()} is\", len(result))\n",
            "/usr/local/lib/python3.12/dist-packages/sklearn/metrics/_classification.py:1565: UndefinedMetricWarning: Precision is ill-defined and being set to 0.0 in labels with no predicted samples. Use `zero_division` parameter to control this behavior.\n",
            "  _warn_prf(average, modifier, f\"{metric.capitalize()} is\", len(result))\n",
            "/usr/local/lib/python3.12/dist-packages/sklearn/metrics/_classification.py:1565: UndefinedMetricWarning: Precision is ill-defined and being set to 0.0 in labels with no predicted samples. Use `zero_division` parameter to control this behavior.\n",
            "  _warn_prf(average, modifier, f\"{metric.capitalize()} is\", len(result))\n"
          ]
        },
        {
          "output_type": "display_data",
          "data": {
            "text/plain": [
              "<Figure size 640x480 with 2 Axes>"
            ],
            "image/png": "[encoded data removed]"
          },
          "metadata": {}
        },
        {
          "output_type": "stream",
          "name": "stdout",
          "text": [
            "✅ Gráfico salvo em: hermes-reply-fase5/images/confusion_matrix.png\n"
          ]
        }
      ]
    },
    {
      "cell_type": "code",
      "source": [
        "readme = f\"\"\"# Hermes Reply – Fase 5 (Banco de Dados + ML Básico)\n",
        "\n",
        "## Objetivo\n",
        "Modelar um **banco relacional** para dados de sensores industriais e treinar um **modelo simples de ML (classificação)** para indicar necessidade de manutenção.\n",
        "\n",
        "## Banco de Dados\n",
        "- **DER**: `images/er_diagram.png`\n",
        "- **DDL**: `ddl/schema.sql`\n",
        "- **Entidades**: sites, assets, sensor_types, units, sensors, readings, thresholds, alerts, maintenance_events\n",
        "- **Chaves**: `readings(sensor_id, ts)` como PK composta; FKs site→asset→sensor\n",
        "- **Índices**: por tempo e por sensor+tempo\n",
        "\n",
        "## ML (Classificação)\n",
        "- **Problema**: prever `needs_maintenance` a partir de temperatura, vibração e corrente (+ lags)\n",
        "- **Modelo**: `RandomForestClassifier`\n",
        "- **Métricas**: `classification_report` + **matriz de confusão** (`images/confusion_matrix.png`)\n",
        "- **Série temporal**: `images/serie_temperatura_sensor1.png`\n",
        "\n",
        "## Como reproduzir (Colab)\n",
        "1. Executar as células do notebook na ordem (instalação → schema → CSVs → criar DB → DER → ML).\n",
        "2. Os CSVs ficam em `data/`; o banco em `sensors.db`; imagens em `images/`.\n",
        "\n",
        "## Dados\n",
        "- Simulados neste notebook (≥ 600 leituras por sensor). Pode substituir pelos dados reais da fase anterior mantendo os mesmos nomes de colunas.\n",
        "\n",
        "## Vídeo (≤ 5 min)\n",
        "Explique o DER, mostre rapidamente consultas no DB, o treino do modelo e os gráficos.\n",
        "Cole aqui o link do YouTube (não listado).\n",
        "\n",
        "- **Vídeo**: _(adicione aqui)_\n",
        "\"\"\"\n",
        "with open(os.path.join(PROJECT, \"README.md\"), \"w\", encoding=\"utf-8\") as f:\n",
        "    f.write(readme)\n",
        "\n",
        "print(\"✅ README criado em:\", os.path.join(PROJECT, \"README.md\"))\n"
      ],
      "metadata": {
        "colab": {
          "base_uri": "https://localhost:8080/"
        },
        "id": "GwdM8sAzH4rF",
        "outputId": "a56e4bed-5f3e-402d-9e45-d0b9071e4516"
      },
      "execution_count": 100,
      "outputs": [
        {
          "output_type": "stream",
          "name": "stdout",
          "text": [
            "✅ README criado em: hermes-reply-fase5/README.md\n"
          ]
        }
      ]
    },
    {
      "cell_type": "code",
      "source": [
        "import os\n",
        "!rm -rf hermes-reply-fase5-repo\n",
        "!cp -r {PROJECT} hermes-reply-fase5-repo\n",
        "%cd hermes-reply-fase5-repo\n",
        "\n",
        "!git init\n",
        "!git config user.name \"seu-usuario-github\"\n",
        "!git config user.email \"seu-usuario-github@users.noreply.github.com\"\n",
        "\n",
        "!git add .\n",
        "!git commit -m \"Fase 5: BD + ML + DER + gráficos + README\"\n"
      ],
      "metadata": {
        "colab": {
          "base_uri": "https://localhost:8080/"
        },
        "id": "o-M1Eey5H8Bh",
        "outputId": "4d3168d1-7297-4f72-a85f-b0006e70791c"
      },
      "execution_count": 101,
      "outputs": [
        {
          "output_type": "stream",
          "name": "stdout",
          "text": [
            "/content/hermes-reply-fase5-repo\n",
            "\u001b[33mhint: Using 'master' as the name for the initial branch. This default branch name\u001b[m\n",
            "\u001b[33mhint: is subject to change. To configure the initial branch name to use in all\u001b[m\n",
            "\u001b[33mhint: of your new repositories, which will suppress this warning, call:\u001b[m\n",
            "\u001b[33mhint: \u001b[m\n",
            "\u001b[33mhint: \tgit config --global init.defaultBranch <name>\u001b[m\n",
            "\u001b[33mhint: \u001b[m\n",
            "\u001b[33mhint: Names commonly chosen instead of 'master' are 'main', 'trunk' and\u001b[m\n",
            "\u001b[33mhint: 'development'. The just-created branch can be renamed via this command:\u001b[m\n",
            "\u001b[33mhint: \u001b[m\n",
            "\u001b[33mhint: \tgit branch -m <name>\u001b[m\n",
            "Initialized empty Git repository in /content/hermes-reply-fase5-repo/.git/\n",
            "[master (root-commit) 31d013b] Fase 5: BD + ML + DER + gráficos + README\n",
            " 18 files changed, 9255 insertions(+)\n",
            " create mode 100644 .gitignore\n",
            " create mode 100644 README.md\n",
            " create mode 100644 data/assets.csv\n",
            " create mode 100644 data/readings.csv\n",
            " create mode 100644 data/sensor_types.csv\n",
            " create mode 100644 data/sensors.csv\n",
            " create mode 100644 data/sites.csv\n",
            " create mode 100644 data/thresholds.csv\n",
            " create mode 100644 data/units.csv\n",
            " create mode 100644 ddl/schema.sql\n",
            " create mode 100644 images/confusion_matrix.png\n",
            " create mode 100644 images/confusion_matrix_from_script.png\n",
            " create mode 100644 images/er_diagram.png\n",
            " create mode 100644 images/leituras_por_tipo.png\n",
            " create mode 100644 images/serie_sensor_1.png\n",
            " create mode 100644 reports/train_log.txt\n",
            " create mode 100644 sensors.db\n",
            " create mode 100644 src/train_ml.py\n"
          ]
        }
      ]
    },
    {
      "cell_type": "code",
      "source": [
        "# === PREPARAR PASTA DO REPO (robusto, com caminhos absolutos) ===\n",
        "import os, shutil, textwrap, json\n",
        "\n",
        "GITHUB_USER   = \"flahbocchino\"              # seu usuário\n",
        "PROJECT_NAME  = \"hermes-reply-fase5\"        # nome do projeto\n",
        "BASE          = \"/content\"                  # raiz do Colab\n",
        "PROJECT       = os.path.join(BASE, PROJECT_NAME)\n",
        "REPO_DIR      = os.path.join(BASE, f\"{PROJECT_NAME}-repo\")\n",
        "\n",
        "# 0) garante que a pasta do projeto existe (cria se não existir)\n",
        "os.makedirs(PROJECT, exist_ok=True)\n",
        "os.makedirs(os.path.join(PROJECT, \"src\"), exist_ok=True)\n",
        "\n",
        "# 1) (opcional) criar um script .py com o pipeline de ML\n",
        "train_py   = os.path.join(PROJECT, \"src\", \"train_ml.py\")\n",
        "train_code = r'''\n",
        "import os, sqlite3\n",
        "import pandas as pd\n",
        "import numpy as np\n",
        "from sklearn.model_selection import train_test_split\n",
        "from sklearn.ensemble import RandomForestClassifier\n",
        "from sklearn.metrics import classification_report, ConfusionMatrixDisplay\n",
        "import matplotlib.pyplot as plt\n",
        "\n",
        "# raiz do projeto = dois níveis acima deste arquivo (src/train_ml.py)\n",
        "ROOT   = os.path.dirname(os.path.dirname(__file__))\n",
        "DB_PATH = os.path.join(ROOT, \"sensors.db\")\n",
        "IMG_DIR = os.path.join(ROOT, \"images\")\n",
        "os.makedirs(IMG_DIR, exist_ok=True)\n",
        "\n",
        "# 1) carregar dados do SQLite\n",
        "con = sqlite3.connect(DB_PATH)\n",
        "readings = pd.read_sql(\"SELECT * FROM readings;\", con)\n",
        "sensors  = pd.read_sql(\"SELECT sensor_id, asset_id, sensor_type_id FROM sensors;\", con)\n",
        "types_   = pd.read_sql(\"SELECT sensor_type_id, name FROM sensor_types;\", con)\n",
        "\n",
        "# 2) montar dataset wide + lags\n",
        "df = readings.merge(sensors, on=\"sensor_id\").merge(types_, on=\"sensor_type_id\")\n",
        "df[\"ts\"] = pd.to_datetime(df[\"ts\"])\n",
        "df = df.sort_values([\"asset_id\",\"ts\"])\n",
        "\n",
        "wide = (df.pivot_table(index=[\"asset_id\",\"ts\"], columns=\"name\", values=\"value\")\n",
        "          .reset_index().dropna().sort_values([\"asset_id\",\"ts\"]))\n",
        "\n",
        "for col in [\"temperature\",\"vibration\",\"current\"]:\n",
        "    wide[col+\"_lag1\"] = wide.groupby(\"asset_id\")[col].shift(1)\n",
        "wide = wide.dropna()\n",
        "\n",
        "# 3) rótulo simulado\n",
        "wide[\"needs_maintenance\"] = (\n",
        "    (wide[\"temperature\"] > 80) &\n",
        "    (wide[\"vibration\"]   > 8)  &\n",
        "    (wide[\"current\"]     > 15)\n",
        ").astype(int)\n",
        "\n",
        "rng = np.random.default_rng(42)\n",
        "flip = rng.choice(wide.index, size=int(0.05*len(wide)), replace=False)\n",
        "wide.loc[flip, \"needs_maintenance\"] = 1 - wide.loc[flip, \"needs_maintenance\"]\n",
        "\n",
        "# 4) treino e avaliação\n",
        "features = [\"temperature\",\"vibration\",\"current\",\n",
        "            \"temperature_lag1\",\"vibration_lag1\",\"current_lag1\"]\n",
        "X = wide[features]; y = wide[\"needs_maintenance\"]\n",
        "\n",
        "X_train, X_test, y_train, y_test = train_test_split(\n",
        "    X, y, test_size=0.2, stratify=y, random_state=0\n",
        ")\n",
        "\n",
        "clf = RandomForestClassifier(n_estimators=200, random_state=0)\n",
        "clf.fit(X_train, y_train)\n",
        "\n",
        "print(\"=== Classification report ===\")\n",
        "print(classification_report(y_test, clf.predict(X_test)))\n",
        "\n",
        "# 5) salvar matriz de confusão\n",
        "disp = ConfusionMatrixDisplay.from_estimator(clf, X_test, y_test)\n",
        "plt.title(\"Matriz de Confusão - RandomForest\")\n",
        "out_cm = os.path.join(IMG_DIR, \"confusion_matrix_from_script.png\")\n",
        "plt.savefig(out_cm, dpi=150, bbox_inches=\"tight\")\n",
        "plt.close()\n",
        "print(\"Saved:\", out_cm)\n",
        "'''\n",
        "with open(train_py, \"w\", encoding=\"utf-8\") as f:\n",
        "    f.write(train_code)\n",
        "\n",
        "# 2) .gitignore\n",
        "gitignore = os.path.join(PROJECT, \".gitignore\")\n",
        "with open(gitignore, \"w\", encoding=\"utf-8\") as f:\n",
        "    f.write(textwrap.dedent(\"\"\"\n",
        "        __pycache__/\n",
        "        .ipynb_checkpoints/\n",
        "        *.pyc\n",
        "        *.pyo\n",
        "        .DS_Store\n",
        "    \"\"\").strip() + \"\\n\")\n",
        "\n",
        "# 3) copiar o projeto para a pasta do repo (limpa se já existir)\n",
        "if os.path.isdir(REPO_DIR):\n",
        "    shutil.rmtree(REPO_DIR)\n",
        "shutil.copytree(PROJECT, REPO_DIR)\n",
        "\n",
        "print(\"✅ Repo local preparado em:\", REPO_DIR)\n",
        "print(\"Conteúdo de nível superior:\", os.listdir(REPO_DIR))\n"
      ],
      "metadata": {
        "colab": {
          "base_uri": "https://localhost:8080/"
        },
        "id": "T_tr4rehK0AF",
        "outputId": "e97255b6-a283-4654-a959-acd67fa9c3f2"
      },
      "execution_count": 102,
      "outputs": [
        {
          "output_type": "stream",
          "name": "stdout",
          "text": [
            "✅ Repo local preparado em: /content/hermes-reply-fase5-repo\n",
            "Conteúdo de nível superior: ['README.md', 'reports', 'data', 'src', 'notebooks', 'ddl', 'images', '.gitignore', 'sensors.db']\n"
          ]
        }
      ]
    },
    {
      "cell_type": "code",
      "source": [
        "# PREPARA O REPO LOCAL A PARTIR DO PROJETO (COM ABSOLUTE PATH)\n",
        "import os, shutil\n",
        "\n",
        "BASE      = \"/content\"\n",
        "PROJECT   = os.path.join(BASE, \"hermes-reply-fase5\")\n",
        "REPO_DIR  = os.path.join(BASE, \"hermes-reply-fase5-repo\")\n",
        "\n",
        "# garanta que o projeto existe\n",
        "assert os.path.isdir(PROJECT), \"Projeto não encontrado em /content/hermes-reply-fase5. Recrie as pastas e arquivos.\"\n",
        "\n",
        "# (re)cria a pasta do repo local a partir do projeto\n",
        "if os.path.isdir(REPO_DIR):\n",
        "    shutil.rmtree(REPO_DIR)\n",
        "shutil.copytree(PROJECT, REPO_DIR)\n",
        "\n",
        "# inicia git + commit\n",
        "!git -C {REPO_DIR} init\n",
        "!git -C {REPO_DIR} config user.name \"flahbocchino\"\n",
        "!git -C {REPO_DIR} config user.email \"flahbocchino@users.noreply.github.com\"\n",
        "!git -C {REPO_DIR} add .\n",
        "!git -C {REPO_DIR} commit -m \"entrega fase 5\" || echo \"Nada novo para commitar (ok)\"\n",
        "!git -C {REPO_DIR} status -s\n",
        "\n"
      ],
      "metadata": {
        "colab": {
          "base_uri": "https://localhost:8080/"
        },
        "id": "lIN0ZlAqLVNA",
        "outputId": "3d939434-5e78-4b12-efaf-8f551c6f9a0e"
      },
      "execution_count": 103,
      "outputs": [
        {
          "output_type": "stream",
          "name": "stdout",
          "text": [
            "shell-init: error retrieving current directory: getcwd: cannot access parent directories: No such file or directory\n",
            "\u001b[33mhint: Using 'master' as the name for the initial branch. This default branch name\u001b[m\n",
            "\u001b[33mhint: is subject to change. To configure the initial branch name to use in all\u001b[m\n",
            "\u001b[33mhint: of your new repositories, which will suppress this warning, call:\u001b[m\n",
            "\u001b[33mhint: \u001b[m\n",
            "\u001b[33mhint: \tgit config --global init.defaultBranch <name>\u001b[m\n",
            "\u001b[33mhint: \u001b[m\n",
            "\u001b[33mhint: Names commonly chosen instead of 'master' are 'main', 'trunk' and\u001b[m\n",
            "\u001b[33mhint: 'development'. The just-created branch can be renamed via this command:\u001b[m\n",
            "\u001b[33mhint: \u001b[m\n",
            "\u001b[33mhint: \tgit branch -m <name>\u001b[m\n",
            "Initialized empty Git repository in /content/hermes-reply-fase5-repo/.git/\n",
            "shell-init: error retrieving current directory: getcwd: cannot access parent directories: No such file or directory\n",
            "shell-init: error retrieving current directory: getcwd: cannot access parent directories: No such file or directory\n",
            "shell-init: error retrieving current directory: getcwd: cannot access parent directories: No such file or directory\n",
            "shell-init: error retrieving current directory: getcwd: cannot access parent directories: No such file or directory\n",
            "[master (root-commit) 5cabfde] entrega fase 5\n",
            " 18 files changed, 9255 insertions(+)\n",
            " create mode 100644 .gitignore\n",
            " create mode 100644 README.md\n",
            " create mode 100644 data/assets.csv\n",
            " create mode 100644 data/readings.csv\n",
            " create mode 100644 data/sensor_types.csv\n",
            " create mode 100644 data/sensors.csv\n",
            " create mode 100644 data/sites.csv\n",
            " create mode 100644 data/thresholds.csv\n",
            " create mode 100644 data/units.csv\n",
            " create mode 100644 ddl/schema.sql\n",
            " create mode 100644 images/confusion_matrix.png\n",
            " create mode 100644 images/confusion_matrix_from_script.png\n",
            " create mode 100644 images/er_diagram.png\n",
            " create mode 100644 images/leituras_por_tipo.png\n",
            " create mode 100644 images/serie_sensor_1.png\n",
            " create mode 100644 reports/train_log.txt\n",
            " create mode 100644 sensors.db\n",
            " create mode 100644 src/train_ml.py\n",
            "shell-init: error retrieving current directory: getcwd: cannot access parent directories: No such file or directory\n"
          ]
        }
      ]
    },
    {
      "cell_type": "code",
      "source": [
        "# Checagens rápidas do SQLite\n",
        "import os, sqlite3, pandas as pd\n",
        "\n",
        "ROOT = \"/content/hermes-reply-fase5\"\n",
        "DB   = os.path.join(ROOT, \"sensors.db\")\n",
        "assert os.path.isfile(DB), \"Banco não encontrado. Garanta que /content/hermes-reply-fase5/sensors.db existe.\"\n",
        "\n",
        "con = sqlite3.connect(DB)\n",
        "\n",
        "# Contagens principais\n",
        "q1 = \"\"\"\n",
        "SELECT\n",
        "  (SELECT COUNT(*) FROM sites)           AS n_sites,\n",
        "  (SELECT COUNT(*) FROM assets)          AS n_assets,\n",
        "  (SELECT COUNT(*) FROM sensors)         AS n_sensors,\n",
        "  (SELECT COUNT(*) FROM readings)        AS n_readings\n",
        "\"\"\"\n",
        "print(pd.read_sql(q1, con))\n",
        "\n",
        "# Leituras por sensor (amostra)\n",
        "q2 = \"\"\"\n",
        "SELECT r.sensor_id, COUNT(*) as n\n",
        "FROM readings r\n",
        "GROUP BY r.sensor_id\n",
        "ORDER BY n DESC\n",
        "LIMIT 5\n",
        "\"\"\"\n",
        "print(pd.read_sql(q2, con))\n",
        "\n",
        "con.close()\n"
      ],
      "metadata": {
        "colab": {
          "base_uri": "https://localhost:8080/"
        },
        "id": "vZuGxZkcbOFb",
        "outputId": "f7373fb6-1951-4587-f699-3d620a244ee0"
      },
      "execution_count": 104,
      "outputs": [
        {
          "output_type": "stream",
          "name": "stdout",
          "text": [
            "   n_sites  n_assets  n_sensors  n_readings\n",
            "0        2         5         15        9000\n",
            "   sensor_id    n\n",
            "0          1  600\n",
            "1          2  600\n",
            "2          3  600\n",
            "3          4  600\n",
            "4          5  600\n"
          ]
        }
      ]
    },
    {
      "cell_type": "code",
      "source": [
        "import os\n",
        "\n",
        "ROOT = \"/content/hermes-reply-fase5\"\n",
        "os.makedirs(os.path.join(ROOT,\"reports\"), exist_ok=True)\n",
        "\n",
        "# executa o script e guarda o log\n",
        "!python {ROOT}/src/train_ml.py | tee {ROOT}/reports/train_log.txt\n",
        "\n",
        "# conferir se a imagem saiu\n",
        "!ls -lh {ROOT}/images | sed -n '1,50p'\n"
      ],
      "metadata": {
        "colab": {
          "base_uri": "https://localhost:8080/"
        },
        "id": "yK1ZHEuScTcA",
        "outputId": "6ce8a94f-8187-4c6f-930e-eb49ccb83b4e"
      },
      "execution_count": 105,
      "outputs": [
        {
          "output_type": "stream",
          "name": "stdout",
          "text": [
            "shell-init: error retrieving current directory: getcwd: cannot access parent directories: No such file or directory\n",
            "shell-init: error retrieving current directory: getcwd: cannot access parent directories: No such file or directory\n",
            "/usr/local/lib/python3.12/dist-packages/sklearn/metrics/_classification.py:1565: UndefinedMetricWarning: Precision is ill-defined and being set to 0.0 in labels with no predicted samples. Use `zero_division` parameter to control this behavior.\n",
            "  _warn_prf(average, modifier, f\"{metric.capitalize()} is\", len(result))\n",
            "/usr/local/lib/python3.12/dist-packages/sklearn/metrics/_classification.py:1565: UndefinedMetricWarning: Precision is ill-defined and being set to 0.0 in labels with no predicted samples. Use `zero_division` parameter to control this behavior.\n",
            "  _warn_prf(average, modifier, f\"{metric.capitalize()} is\", len(result))\n",
            "/usr/local/lib/python3.12/dist-packages/sklearn/metrics/_classification.py:1565: UndefinedMetricWarning: Precision is ill-defined and being set to 0.0 in labels with no predicted samples. Use `zero_division` parameter to control this behavior.\n",
            "  _warn_prf(average, modifier, f\"{metric.capitalize()} is\", len(result))\n",
            "=== Classification report ===\n",
            "              precision    recall  f1-score   support\n",
            "\n",
            "           0       0.95      1.00      0.97       569\n",
            "           1       0.00      0.00      0.00        30\n",
            "\n",
            "    accuracy                           0.95       599\n",
            "   macro avg       0.47      0.50      0.49       599\n",
            "weighted avg       0.90      0.95      0.93       599\n",
            "\n",
            "Saved: /content/hermes-reply-fase5/images/confusion_matrix_from_script.png\n",
            "shell-init: error retrieving current directory: getcwd: cannot access parent directories: No such file or directory\n",
            "total 240K\n",
            "-rw-r--r-- 1 root root 30K Sep  1 18:02 confusion_matrix_from_script.png\n",
            "-rw-r--r-- 1 root root 30K Sep  1 18:02 confusion_matrix.png\n",
            "-rw-r--r-- 1 root root 44K Sep  1 18:02 er_diagram.png\n",
            "-rw-r--r-- 1 root root 32K Sep  1 18:00 leituras_por_tipo.png\n",
            "-rw-r--r-- 1 root root 98K Sep  1 18:00 serie_sensor_1.png\n"
          ]
        }
      ]
    },
    {
      "cell_type": "code",
      "source": [
        "import os, sqlite3, pandas as pd\n",
        "import matplotlib.pyplot as plt\n",
        "\n",
        "ROOT = \"/content/hermes-reply-fase5\"\n",
        "DB   = os.path.join(ROOT, \"sensors.db\")\n",
        "IMG  = os.path.join(ROOT, \"images\")\n",
        "os.makedirs(IMG, exist_ok=True)\n",
        "\n",
        "con = sqlite3.connect(DB)\n",
        "\n",
        "# 1) escolher um sensor com bastante dados\n",
        "sensor_id = pd.read_sql(\"SELECT sensor_id, COUNT(*) n FROM readings GROUP BY sensor_id ORDER BY n DESC LIMIT 1\", con)[\"sensor_id\"].iloc[0]\n",
        "df = pd.read_sql(f\"SELECT ts, value FROM readings WHERE sensor_id={sensor_id} ORDER BY ts\", con)\n",
        "df[\"ts\"] = pd.to_datetime(df[\"ts\"])\n",
        "\n",
        "plt.figure(figsize=(9,3.5))\n",
        "plt.plot(df[\"ts\"], df[\"value\"])\n",
        "plt.title(f\"Série temporal - sensor {sensor_id}\")\n",
        "plt.xlabel(\"Tempo\"); plt.ylabel(\"Valor\")\n",
        "out_ts = os.path.join(IMG, f\"serie_sensor_{sensor_id}.png\")\n",
        "plt.tight_layout(); plt.savefig(out_ts, dpi=150); plt.close()\n",
        "print(\"✔ série temporal:\", out_ts)\n",
        "\n",
        "# 2) barras: quantidade de leituras por tipo de sensor\n",
        "q = \"\"\"\n",
        "SELECT st.name AS sensor_type, COUNT(r.ts) AS n\n",
        "FROM readings r\n",
        "JOIN sensors s ON s.sensor_id=r.sensor_id\n",
        "JOIN sensor_types st ON st.sensor_type_id=s.sensor_type_id\n",
        "GROUP BY st.name\n",
        "ORDER BY n DESC\n",
        "\"\"\"\n",
        "bars = pd.read_sql(q, con)\n",
        "con.close()\n",
        "\n",
        "plt.figure(figsize=(6,3.5))\n",
        "plt.bar(bars[\"sensor_type\"], bars[\"n\"])\n",
        "plt.xticks(rotation=20, ha=\"right\"); plt.ylabel(\"Leituras\")\n",
        "plt.title(\"Leituras por tipo de sensor\")\n",
        "out_bar = os.path.join(IMG, \"leituras_por_tipo.png\")\n",
        "plt.tight_layout(); plt.savefig(out_bar, dpi=150); plt.close()\n",
        "print(\"✔ barras:\", out_bar)\n"
      ],
      "metadata": {
        "colab": {
          "base_uri": "https://localhost:8080/"
        },
        "id": "fWMCRUX2cX_p",
        "outputId": "0f2f6003-31ac-469f-ad5d-becb8fd1cc87"
      },
      "execution_count": 106,
      "outputs": [
        {
          "output_type": "stream",
          "name": "stdout",
          "text": [
            "✔ série temporal: /content/hermes-reply-fase5/images/serie_sensor_1.png\n",
            "✔ barras: /content/hermes-reply-fase5/images/leituras_por_tipo.png\n"
          ]
        }
      ]
    },
    {
      "cell_type": "code",
      "source": [
        "import os, glob\n",
        "\n",
        "ROOT = \"/content/hermes-reply-fase5\"\n",
        "paths = [\n",
        "    os.path.join(ROOT,\"ddl\",\"schema.sql\"),\n",
        "    os.path.join(ROOT,\"sensors.db\"),\n",
        "    os.path.join(ROOT,\"src\",\"train_ml.py\"),\n",
        "    os.path.join(ROOT,\"images\",\"confusion_matrix_from_script.png\"),\n",
        "    os.path.join(ROOT,\"images\",\"leituras_por_tipo.png\"),\n",
        "]\n",
        "print(\"Arquivos obrigatórios:\")\n",
        "for p in paths:\n",
        "    print((\"✅\" if os.path.exists(p) else \"❌\"), p)\n",
        "\n",
        "print(\"\\nOutros (opcionais):\")\n",
        "for p in glob.glob(os.path.join(ROOT,\"images\",\"serie_sensor_*.png\")):\n",
        "    print(\"•\", p)\n",
        "for p in glob.glob(os.path.join(ROOT,\"images\",\"er_*.png\")):\n",
        "    print(\"•\", p)\n"
      ],
      "metadata": {
        "colab": {
          "base_uri": "https://localhost:8080/"
        },
        "id": "WSe734GshhTL",
        "outputId": "33d9ef29-85db-41a4-e7ca-64785e25c883"
      },
      "execution_count": 107,
      "outputs": [
        {
          "output_type": "stream",
          "name": "stdout",
          "text": [
            "Arquivos obrigatórios:\n",
            "✅ /content/hermes-reply-fase5/ddl/schema.sql\n",
            "✅ /content/hermes-reply-fase5/sensors.db\n",
            "✅ /content/hermes-reply-fase5/src/train_ml.py\n",
            "✅ /content/hermes-reply-fase5/images/confusion_matrix_from_script.png\n",
            "✅ /content/hermes-reply-fase5/images/leituras_por_tipo.png\n",
            "\n",
            "Outros (opcionais):\n",
            "• /content/hermes-reply-fase5/images/serie_sensor_1.png\n",
            "• /content/hermes-reply-fase5/images/er_diagram.png\n"
          ]
        }
      ]
    },
    {
      "cell_type": "code",
      "source": [
        "# remove variável (se existir)\n",
        "try: del TOKEN\n",
        "except NameError: pass\n",
        "\n",
        "# garante remote sem token\n",
        "REPO_DIR = \"/content/hermes-reply-fase5-repo\"\n",
        "!git -C {REPO_DIR} remote set-url origin https://github.com/flahbocchino/hermes-reply-fase5.git\n",
        "!git -C {REPO_DIR} remote -v\n"
      ],
      "metadata": {
        "colab": {
          "base_uri": "https://localhost:8080/"
        },
        "id": "8SsgIdZHnhnC",
        "outputId": "f4878c64-456a-4ce4-9534-04e42d4ae882"
      },
      "execution_count": 110,
      "outputs": [
        {
          "output_type": "stream",
          "name": "stdout",
          "text": [
            "shell-init: error retrieving current directory: getcwd: cannot access parent directories: No such file or directory\n",
            "error: No such remote 'origin'\n",
            "shell-init: error retrieving current directory: getcwd: cannot access parent directories: No such file or directory\n"
          ]
        }
      ]
    },
    {
      "cell_type": "code",
      "source": [
        "import pathlib, os\n",
        "home = pathlib.Path(\"~\").expanduser()\n",
        "( home/\".ssh\" ).mkdir(parents=True, exist_ok=True)\n",
        "!ssh-keygen -t ed25519 -C \"colab-ssh\" -f ~/.ssh/id_ed25519 -N \"\" -q\n",
        "with open(home/\".ssh/config\",\"w\") as f:\n",
        "    f.write(\"Host github.com\\n  IdentityFile ~/.ssh/id_ed25519\\n  StrictHostKeyChecking accept-new\\n\")\n",
        "!ssh-keyscan github.com >> ~/.ssh/known_hosts 2>/dev/null\n",
        "!chmod 700 ~/.ssh; chmod 600 ~/.ssh/*\n",
        "!cat ~/.ssh/id_ed25519.pub\n"
      ],
      "metadata": {
        "colab": {
          "base_uri": "https://localhost:8080/"
        },
        "id": "3lxaerzvnlyE",
        "outputId": "cd400695-9d18-426c-b47a-10acc25381cc"
      },
      "execution_count": 111,
      "outputs": [
        {
          "output_type": "stream",
          "name": "stdout",
          "text": [
            "shell-init: error retrieving current directory: getcwd: cannot access parent directories: No such file or directory\n",
            "shell-init: error retrieving current directory: getcwd: cannot access parent directories: No such file or directory\n",
            "shell-init: error retrieving current directory: getcwd: cannot access parent directories: No such file or directory\n",
            "shell-init: error retrieving current directory: getcwd: cannot access parent directories: No such file or directory\n",
            "ssh-ed25519 AAAAC3NzaC1lZDI1NTE5AAAAIJqjct8OC8+piVsOzcAx2Wl5O5pmVZTTLF0be96/RFa/ colab-ssh\n"
          ]
        }
      ]
    },
    {
      "cell_type": "code",
      "source": [
        "REPO_DIR = \"/content/hermes-reply-fase5-repo\"\n",
        "!git -C {REPO_DIR} branch -M main\n",
        "!git -C {REPO_DIR} remote remove origin 2>/dev/null || true\n",
        "!git -C {REPO_DIR} remote add origin git@github.com:flahbocchino/hermes-reply-fase5.git\n",
        "!git -C {REPO_DIR} pull --rebase origin main || true\n",
        "!git -C {REPO_DIR} push -u origin main\n"
      ],
      "metadata": {
        "colab": {
          "base_uri": "https://localhost:8080/"
        },
        "id": "_LJifJnmnq_i",
        "outputId": "6241adf0-b798-4e47-f2b7-a40d20b9cc44"
      },
      "execution_count": 112,
      "outputs": [
        {
          "output_type": "stream",
          "name": "stdout",
          "text": [
            "shell-init: error retrieving current directory: getcwd: cannot access parent directories: No such file or directory\n",
            "shell-init: error retrieving current directory: getcwd: cannot access parent directories: No such file or directory\n",
            "shell-init: error retrieving current directory: getcwd: cannot access parent directories: No such file or directory\n",
            "shell-init: error retrieving current directory: getcwd: cannot access parent directories: No such file or directory\n",
            "git@github.com: Permission denied (publickey).\n",
            "fatal: Could not read from remote repository.\n",
            "\n",
            "Please make sure you have the correct access rights\n",
            "and the repository exists.\n",
            "shell-init: error retrieving current directory: getcwd: cannot access parent directories: No such file or directory\n",
            "git@github.com: Permission denied (publickey).\n",
            "fatal: Could not read from remote repository.\n",
            "\n",
            "Please make sure you have the correct access rights\n",
            "and the repository exists.\n"
          ]
        }
      ]
    },
    {
      "cell_type": "code",
      "source": [
        "PROJECT  = \"/content/hermes-reply-fase5\"\n",
        "REPO_DIR = \"/content/hermes-reply-fase5-repo\"\n",
        "\n",
        "# copia/atualiza TUDO do projeto para a pasta do repo (apaga o que saiu)\n",
        "!rsync -a --delete {PROJECT}/ {REPO_DIR}/\n",
        "\n",
        "# confira o que ficou lá dentro\n",
        "!ls -R {REPO_DIR} | sed -n '1,200p'\n"
      ],
      "metadata": {
        "colab": {
          "base_uri": "https://localhost:8080/"
        },
        "id": "SRBVxwXcoa7M",
        "outputId": "3c59e30a-38ab-41db-ea1b-1a809d31683e"
      },
      "execution_count": 113,
      "outputs": [
        {
          "output_type": "stream",
          "name": "stdout",
          "text": [
            "shell-init: error retrieving current directory: getcwd: cannot access parent directories: No such file or directory\n",
            "rsync: [Receiver] getcwd(): No such file or directory (2)\n",
            "rsync error: errors selecting input/output files, dirs (code 3) at util1.c(1122) [Receiver=3.2.7]\n",
            "shell-init: error retrieving current directory: getcwd: cannot access parent directories: No such file or directory\n",
            "/content/hermes-reply-fase5-repo:\n",
            "data\n",
            "ddl\n",
            "images\n",
            "notebooks\n",
            "README.md\n",
            "reports\n",
            "sensors.db\n",
            "src\n",
            "\n",
            "/content/hermes-reply-fase5-repo/data:\n",
            "assets.csv\n",
            "readings.csv\n",
            "sensors.csv\n",
            "sensor_types.csv\n",
            "sites.csv\n",
            "thresholds.csv\n",
            "units.csv\n",
            "\n",
            "/content/hermes-reply-fase5-repo/ddl:\n",
            "schema.sql\n",
            "\n",
            "/content/hermes-reply-fase5-repo/images:\n",
            "confusion_matrix_from_script.png\n",
            "confusion_matrix.png\n",
            "er_diagram.png\n",
            "leituras_por_tipo.png\n",
            "serie_sensor_1.png\n",
            "\n",
            "/content/hermes-reply-fase5-repo/notebooks:\n",
            "\n",
            "/content/hermes-reply-fase5-repo/reports:\n",
            "train_log.txt\n",
            "\n",
            "/content/hermes-reply-fase5-repo/src:\n",
            "train_ml.py\n"
          ]
        }
      ]
    },
    {
      "cell_type": "code",
      "source": [
        "!git -C {REPO_DIR} init\n",
        "!git -C {REPO_DIR} config user.name \"flahbocchino\"\n",
        "!git -C {REPO_DIR} config user.email \"flahbocchino@users.noreply.github.com\"\n",
        "\n",
        "!git -C {REPO_DIR} branch -M main\n",
        "!git -C {REPO_DIR} remote remove origin 2>/dev/null || true\n",
        "!git -C {REPO_DIR} remote add origin git@github.com:flahbocchino/hermes-reply-fase5.git\n",
        "!git -C {REPO_DIR} remote -v\n"
      ],
      "metadata": {
        "colab": {
          "base_uri": "https://localhost:8080/"
        },
        "id": "vxpwY2uzofk4",
        "outputId": "bd53b19e-ce73-4854-da7f-667fa92ef48b"
      },
      "execution_count": 114,
      "outputs": [
        {
          "output_type": "stream",
          "name": "stdout",
          "text": [
            "shell-init: error retrieving current directory: getcwd: cannot access parent directories: No such file or directory\n",
            "Reinitialized existing Git repository in /content/hermes-reply-fase5-repo/.git/\n",
            "shell-init: error retrieving current directory: getcwd: cannot access parent directories: No such file or directory\n",
            "shell-init: error retrieving current directory: getcwd: cannot access parent directories: No such file or directory\n",
            "shell-init: error retrieving current directory: getcwd: cannot access parent directories: No such file or directory\n",
            "shell-init: error retrieving current directory: getcwd: cannot access parent directories: No such file or directory\n",
            "shell-init: error retrieving current directory: getcwd: cannot access parent directories: No such file or directory\n",
            "shell-init: error retrieving current directory: getcwd: cannot access parent directories: No such file or directory\n",
            "origin\tgit@github.com:flahbocchino/hermes-reply-fase5.git (fetch)\n",
            "origin\tgit@github.com:flahbocchino/hermes-reply-fase5.git (push)\n"
          ]
        }
      ]
    },
    {
      "cell_type": "code",
      "source": [
        "PROJECT  = \"/content/hermes-reply-fase5\"\n",
        "REPO_DIR = \"/content/hermes-reply-fase5-repo\"\n",
        "\n",
        "# copia/atualiza TUDO do projeto para a pasta do repo (apaga o que saiu)\n",
        "!rsync -a --delete {PROJECT}/ {REPO_DIR}/\n",
        "\n",
        "# confira o que ficou lá dentro\n",
        "!ls -R {REPO_DIR} | sed -n '1,200p'\n"
      ],
      "metadata": {
        "colab": {
          "base_uri": "https://localhost:8080/"
        },
        "id": "aaemcxdkpD6I",
        "outputId": "d0df961e-ab68-47cf-89b9-4e383c09888d"
      },
      "execution_count": 115,
      "outputs": [
        {
          "output_type": "stream",
          "name": "stdout",
          "text": [
            "shell-init: error retrieving current directory: getcwd: cannot access parent directories: No such file or directory\n",
            "rsync: [Receiver] getcwd(): No such file or directory (2)\n",
            "rsync error: errors selecting input/output files, dirs (code 3) at util1.c(1122) [Receiver=3.2.7]\n",
            "shell-init: error retrieving current directory: getcwd: cannot access parent directories: No such file or directory\n",
            "/content/hermes-reply-fase5-repo:\n",
            "data\n",
            "ddl\n",
            "images\n",
            "notebooks\n",
            "README.md\n",
            "reports\n",
            "sensors.db\n",
            "src\n",
            "\n",
            "/content/hermes-reply-fase5-repo/data:\n",
            "assets.csv\n",
            "readings.csv\n",
            "sensors.csv\n",
            "sensor_types.csv\n",
            "sites.csv\n",
            "thresholds.csv\n",
            "units.csv\n",
            "\n",
            "/content/hermes-reply-fase5-repo/ddl:\n",
            "schema.sql\n",
            "\n",
            "/content/hermes-reply-fase5-repo/images:\n",
            "confusion_matrix_from_script.png\n",
            "confusion_matrix.png\n",
            "er_diagram.png\n",
            "leituras_por_tipo.png\n",
            "serie_sensor_1.png\n",
            "\n",
            "/content/hermes-reply-fase5-repo/notebooks:\n",
            "\n",
            "/content/hermes-reply-fase5-repo/reports:\n",
            "train_log.txt\n",
            "\n",
            "/content/hermes-reply-fase5-repo/src:\n",
            "train_ml.py\n"
          ]
        }
      ]
    },
    {
      "cell_type": "code",
      "source": [
        "!git -C {REPO_DIR} init\n",
        "!git -C {REPO_DIR} config user.name \"flahbocchino\"\n",
        "!git -C {REPO_DIR} config user.email \"flahbocchino@users.noreply.github.com\"\n",
        "\n",
        "!git -C {REPO_DIR} branch -M main\n",
        "!git -C {REPO_DIR} remote remove origin 2>/dev/null || true\n",
        "!git -C {REPO_DIR} remote add origin git@github.com:flahbocchino/hermes-reply-fase5.git\n",
        "!git -C {REPO_DIR} remote -v\n"
      ],
      "metadata": {
        "colab": {
          "base_uri": "https://localhost:8080/"
        },
        "id": "h-4alvq6pH-H",
        "outputId": "42e2fb65-8970-4446-a3a2-12fd5ba3fea4"
      },
      "execution_count": 116,
      "outputs": [
        {
          "output_type": "stream",
          "name": "stdout",
          "text": [
            "shell-init: error retrieving current directory: getcwd: cannot access parent directories: No such file or directory\n",
            "Reinitialized existing Git repository in /content/hermes-reply-fase5-repo/.git/\n",
            "shell-init: error retrieving current directory: getcwd: cannot access parent directories: No such file or directory\n",
            "shell-init: error retrieving current directory: getcwd: cannot access parent directories: No such file or directory\n",
            "shell-init: error retrieving current directory: getcwd: cannot access parent directories: No such file or directory\n",
            "shell-init: error retrieving current directory: getcwd: cannot access parent directories: No such file or directory\n",
            "shell-init: error retrieving current directory: getcwd: cannot access parent directories: No such file or directory\n",
            "shell-init: error retrieving current directory: getcwd: cannot access parent directories: No such file or directory\n",
            "origin\tgit@github.com:flahbocchino/hermes-reply-fase5.git (fetch)\n",
            "origin\tgit@github.com:flahbocchino/hermes-reply-fase5.git (push)\n"
          ]
        }
      ]
    },
    {
      "cell_type": "code",
      "source": [
        "PROJECT  = \"/content/hermes-reply-fase5\"\n",
        "REPO_DIR = \"/content/hermes-reply-fase5-repo\"\n",
        "\n",
        "# copia/atualiza TUDO do projeto para a pasta do repo (e apaga o que saiu)\n",
        "!rsync -a --delete {PROJECT}/ {REPO_DIR}/\n",
        "\n",
        "# conferir o que ficou\n",
        "!ls -R {REPO_DIR} | sed -n '1,200p'\n"
      ],
      "metadata": {
        "colab": {
          "base_uri": "https://localhost:8080/"
        },
        "id": "QOPawgp8pVnK",
        "outputId": "78cd7bba-72ea-48eb-c919-8321826e3d26"
      },
      "execution_count": 117,
      "outputs": [
        {
          "output_type": "stream",
          "name": "stdout",
          "text": [
            "shell-init: error retrieving current directory: getcwd: cannot access parent directories: No such file or directory\n",
            "rsync: [Receiver] getcwd(): No such file or directory (2)\n",
            "rsync error: errors selecting input/output files, dirs (code 3) at util1.c(1122) [Receiver=3.2.7]\n",
            "shell-init: error retrieving current directory: getcwd: cannot access parent directories: No such file or directory\n",
            "/content/hermes-reply-fase5-repo:\n",
            "data\n",
            "ddl\n",
            "images\n",
            "notebooks\n",
            "README.md\n",
            "reports\n",
            "sensors.db\n",
            "src\n",
            "\n",
            "/content/hermes-reply-fase5-repo/data:\n",
            "assets.csv\n",
            "readings.csv\n",
            "sensors.csv\n",
            "sensor_types.csv\n",
            "sites.csv\n",
            "thresholds.csv\n",
            "units.csv\n",
            "\n",
            "/content/hermes-reply-fase5-repo/ddl:\n",
            "schema.sql\n",
            "\n",
            "/content/hermes-reply-fase5-repo/images:\n",
            "confusion_matrix_from_script.png\n",
            "confusion_matrix.png\n",
            "er_diagram.png\n",
            "leituras_por_tipo.png\n",
            "serie_sensor_1.png\n",
            "\n",
            "/content/hermes-reply-fase5-repo/notebooks:\n",
            "\n",
            "/content/hermes-reply-fase5-repo/reports:\n",
            "train_log.txt\n",
            "\n",
            "/content/hermes-reply-fase5-repo/src:\n",
            "train_ml.py\n"
          ]
        }
      ]
    },
    {
      "cell_type": "code",
      "source": [
        "REPO_DIR = \"/content/hermes-reply-fase5-repo\"\n",
        "\n",
        "!git -C {REPO_DIR} add -A\n",
        "!git -C {REPO_DIR} commit -m \"Adiciona ddl, src, images, sensors.db e artefatos\" || echo \"Nada novo para commitar\"\n",
        "!git -C {REPO_DIR} pull --rebase origin main || true\n",
        "!git -C {REPO_DIR} push -u origin main\n"
      ],
      "metadata": {
        "colab": {
          "base_uri": "https://localhost:8080/"
        },
        "id": "Q1VRrt5upyJ-",
        "outputId": "d41d76b8-d4a7-43a6-c52a-2fa665091f0a"
      },
      "execution_count": 118,
      "outputs": [
        {
          "output_type": "stream",
          "name": "stdout",
          "text": [
            "shell-init: error retrieving current directory: getcwd: cannot access parent directories: No such file or directory\n",
            "shell-init: error retrieving current directory: getcwd: cannot access parent directories: No such file or directory\n",
            "On branch main\n",
            "nothing to commit, working tree clean\n",
            "Nada novo para commitar\n",
            "shell-init: error retrieving current directory: getcwd: cannot access parent directories: No such file or directory\n",
            "git@github.com: Permission denied (publickey).\n",
            "fatal: Could not read from remote repository.\n",
            "\n",
            "Please make sure you have the correct access rights\n",
            "and the repository exists.\n",
            "shell-init: error retrieving current directory: getcwd: cannot access parent directories: No such file or directory\n",
            "git@github.com: Permission denied (publickey).\n",
            "fatal: Could not read from remote repository.\n",
            "\n",
            "Please make sure you have the correct access rights\n",
            "and the repository exists.\n"
          ]
        }
      ]
    },
    {
      "cell_type": "code",
      "source": [
        "# Conferir arquivos da pasta .ssh e mostrar a CHAVE PÚBLICA\n",
        "!ls -l ~/.ssh\n",
        "print(\"\\n[CONFIG ~/.ssh/config]\")\n",
        "!sed -n '1,200p' ~/.ssh/config || true\n",
        "\n",
        "print(\"\\n[CHAVE PUBLICA ~/.ssh/id_ed25519.pub]  --> copie a linha inteira abaixo\")\n",
        "!cat ~/.ssh/id_ed25519.pub\n"
      ],
      "metadata": {
        "colab": {
          "base_uri": "https://localhost:8080/"
        },
        "id": "3ZK3r4u4p0br",
        "outputId": "d18e7a0b-0296-48c6-cafe-b6b7894746c7"
      },
      "execution_count": 119,
      "outputs": [
        {
          "output_type": "stream",
          "name": "stdout",
          "text": [
            "shell-init: error retrieving current directory: getcwd: cannot access parent directories: No such file or directory\n",
            "total 16\n",
            "-rw------- 1 root root  84 Sep  1 18:49 config\n",
            "-rw------- 1 root root 399 Sep  1 18:49 id_ed25519\n",
            "-rw------- 1 root root  91 Sep  1 18:49 id_ed25519.pub\n",
            "-rw------- 1 root root 828 Sep  1 18:49 known_hosts\n",
            "\n",
            "[CONFIG ~/.ssh/config]\n",
            "shell-init: error retrieving current directory: getcwd: cannot access parent directories: No such file or directory\n",
            "Host github.com\n",
            "  IdentityFile ~/.ssh/id_ed25519\n",
            "  StrictHostKeyChecking accept-new\n",
            "\n",
            "[CHAVE PUBLICA ~/.ssh/id_ed25519.pub]  --> copie a linha inteira abaixo\n",
            "shell-init: error retrieving current directory: getcwd: cannot access parent directories: No such file or directory\n",
            "ssh-ed25519 AAAAC3NzaC1lZDI1NTE5AAAAIJqjct8OC8+piVsOzcAx2Wl5O5pmVZTTLF0be96/RFa/ colab-ssh\n"
          ]
        }
      ]
    },
    {
      "cell_type": "code",
      "source": [
        "# MOSTRAR A CHAVE PÚBLICA COMPLETA (uma única linha)\n",
        "path = \"/root/.ssh/id_ed25519.pub\"\n",
        "with open(path) as f:\n",
        "    key = f.read().strip()\n",
        "print(\"===== COPIE EXATAMENTE A LINHA ABAIXO =====\")\n",
        "print(key)\n",
        "print(\"===== ATE AQUI =====\")\n"
      ],
      "metadata": {
        "colab": {
          "base_uri": "https://localhost:8080/"
        },
        "id": "jQJEMHUorBB8",
        "outputId": "354a4ae3-87ee-4f72-f029-a700f915597b"
      },
      "execution_count": 120,
      "outputs": [
        {
          "output_type": "stream",
          "name": "stdout",
          "text": [
            "===== COPIE EXATAMENTE A LINHA ABAIXO =====\n",
            "ssh-ed25519 AAAAC3NzaC1lZDI1NTE5AAAAIJqjct8OC8+piVsOzcAx2Wl5O5pmVZTTLF0be96/RFa/ colab-ssh\n",
            "===== ATE AQUI =====\n"
          ]
        }
      ]
    },
    {
      "cell_type": "code",
      "source": [
        "PROJECT  = \"/content/hermes-reply-fase5\"\n",
        "REPO_DIR = \"/content/hermes-reply-fase5-repo\"\n",
        "\n",
        "# copia/atualiza TUDO do projeto para a pasta do repo (e apaga o que saiu)\n",
        "!rsync -a --delete {PROJECT}/ {REPO_DIR}/\n",
        "\n",
        "# ver se mudou algo\n",
        "!git -C {REPO_DIR} status -s || true\n"
      ],
      "metadata": {
        "colab": {
          "base_uri": "https://localhost:8080/"
        },
        "id": "fRbgs2CgtsDj",
        "outputId": "0481ed9b-3afd-4802-fd7b-a024f9b921cb"
      },
      "execution_count": 121,
      "outputs": [
        {
          "output_type": "stream",
          "name": "stdout",
          "text": [
            "shell-init: error retrieving current directory: getcwd: cannot access parent directories: No such file or directory\n",
            "rsync: [Receiver] getcwd(): No such file or directory (2)\n",
            "rsync error: errors selecting input/output files, dirs (code 3) at util1.c(1122) [Receiver=3.2.7]\n",
            "shell-init: error retrieving current directory: getcwd: cannot access parent directories: No such file or directory\n"
          ]
        }
      ]
    },
    {
      "cell_type": "code",
      "source": [
        "!git -C {REPO_DIR} branch -M main\n",
        "!git -C {REPO_DIR} remote set-url origin git@github.com:flahbocchino/hermes-reply-fase5.git\n",
        "!git -C {REPO_DIR} remote -v\n"
      ],
      "metadata": {
        "colab": {
          "base_uri": "https://localhost:8080/"
        },
        "id": "jLuNTFoNtuok",
        "outputId": "7c5d7481-a172-46e2-873c-9b4e887e7e65"
      },
      "execution_count": 122,
      "outputs": [
        {
          "output_type": "stream",
          "name": "stdout",
          "text": [
            "shell-init: error retrieving current directory: getcwd: cannot access parent directories: No such file or directory\n",
            "shell-init: error retrieving current directory: getcwd: cannot access parent directories: No such file or directory\n",
            "shell-init: error retrieving current directory: getcwd: cannot access parent directories: No such file or directory\n",
            "origin\tgit@github.com:flahbocchino/hermes-reply-fase5.git (fetch)\n",
            "origin\tgit@github.com:flahbocchino/hermes-reply-fase5.git (push)\n"
          ]
        }
      ]
    },
    {
      "cell_type": "code",
      "source": [
        "!git -C {REPO_DIR} add -A\n",
        "!git -C {REPO_DIR} commit -m \"Publica ddl, src, images, sensors.db e artefatos\" || echo \"Nada novo para commitar\"\n",
        "!git -C {REPO_DIR} pull --rebase origin main || true\n",
        "!git -C {REPO_DIR} push -u origin main\n"
      ],
      "metadata": {
        "colab": {
          "base_uri": "https://localhost:8080/"
        },
        "id": "w_nYzBaEtzCO",
        "outputId": "7c5e4158-15e8-45ce-8a0e-aa5374da515e"
      },
      "execution_count": 123,
      "outputs": [
        {
          "output_type": "stream",
          "name": "stdout",
          "text": [
            "shell-init: error retrieving current directory: getcwd: cannot access parent directories: No such file or directory\n",
            "shell-init: error retrieving current directory: getcwd: cannot access parent directories: No such file or directory\n",
            "On branch main\n",
            "nothing to commit, working tree clean\n",
            "Nada novo para commitar\n",
            "shell-init: error retrieving current directory: getcwd: cannot access parent directories: No such file or directory\n",
            "remote: Enumerating objects: 9, done.\u001b[K\n",
            "remote: Counting objects: 100% (9/9), done.\u001b[K\n",
            "remote: Compressing objects: 100% (7/7), done.\u001b[K\n",
            "remote: Total 9 (delta 1), reused 0 (delta 0), pack-reused 0 (from 0)\u001b[K\n",
            "Unpacking objects: 100% (9/9), 40.37 KiB | 4.48 MiB/s, done.\n",
            "From github.com:flahbocchino/hermes-reply-fase5\n",
            " * branch            main       -> FETCH_HEAD\n",
            " * [new branch]      main       -> origin/main\n",
            "Auto-merging README.md\n",
            "CONFLICT (add/add): Merge conflict in README.md\n",
            "error: could not apply 56c8ecb... Entrega Fase 5: BD + ML + gráficos + README + script\n",
            "\u001b[33mhint: Resolve all conflicts manually, mark them as resolved with\u001b[m\n",
            "\u001b[33mhint: \"git add/rm <conflicted_files>\", then run \"git rebase --continue\".\u001b[m\n",
            "\u001b[33mhint: You can instead skip this commit: run \"git rebase --skip\".\u001b[m\n",
            "\u001b[33mhint: To abort and get back to the state before \"git rebase\", run \"git rebase --abort\".\u001b[m\n",
            "Could not apply 56c8ecb... Entrega Fase 5: BD + ML + gráficos + README + script\n",
            "shell-init: error retrieving current directory: getcwd: cannot access parent directories: No such file or directory\n",
            "To github.com:flahbocchino/hermes-reply-fase5.git\n",
            " \u001b[31m! [rejected]       \u001b[m main -> main (non-fast-forward)\n",
            "\u001b[31merror: failed to push some refs to 'github.com:flahbocchino/hermes-reply-fase5.git'\n",
            "\u001b[m\u001b[33mhint: Updates were rejected because a pushed branch tip is behind its remote\u001b[m\n",
            "\u001b[33mhint: counterpart. Check out this branch and integrate the remote changes\u001b[m\n",
            "\u001b[33mhint: (e.g. 'git pull ...') before pushing again.\u001b[m\n",
            "\u001b[33mhint: See the 'Note about fast-forwards' in 'git push --help' for details.\u001b[m\n"
          ]
        }
      ]
    },
    {
      "cell_type": "code",
      "source": [
        "!git -C {REPO_DIR} rm --cached sensors.db 2>/dev/null || true\n",
        "!bash -lc 'echo \"sensors.db\" >> {REPO_DIR}/.gitignore'\n",
        "!git -C {REPO_DIR} add .gitignore\n",
        "!git -C {REPO_DIR} commit -m \"Ignora sensors.db (>100MB)\" || true\n",
        "!git -C {REPO_DIR} push\n"
      ],
      "metadata": {
        "colab": {
          "base_uri": "https://localhost:8080/"
        },
        "id": "dFrSW0SIt494",
        "outputId": "54161532-0c1c-427c-8031-ca308e504e6e"
      },
      "execution_count": 124,
      "outputs": [
        {
          "output_type": "stream",
          "name": "stdout",
          "text": [
            "shell-init: error retrieving current directory: getcwd: cannot access parent directories: No such file or directory\n",
            "rm 'sensors.db'\n",
            "shell-init: error retrieving current directory: getcwd: cannot access parent directories: No such file or directory\n",
            "shell-init: error retrieving current directory: getcwd: cannot access parent directories: No such file or directory\n",
            "shell-init: error retrieving current directory: getcwd: cannot access parent directories: No such file or directory\n",
            "shell-init: error retrieving current directory: getcwd: cannot access parent directories: No such file or directory\n",
            "U\tREADME.md\n",
            "error: Committing is not possible because you have unmerged files.\n",
            "\u001b[33mhint: Fix them up in the work tree, and then use 'git add/rm <file>'\u001b[m\n",
            "\u001b[33mhint: as appropriate to mark resolution and make a commit.\u001b[m\n",
            "fatal: Exiting because of an unresolved conflict.\n",
            "shell-init: error retrieving current directory: getcwd: cannot access parent directories: No such file or directory\n",
            "fatal: You are not currently on a branch.\n",
            "To push the history leading to the current (detached HEAD)\n",
            "state now, use\n",
            "\n",
            "    git push origin HEAD:<name-of-remote-branch>\n",
            "\n"
          ]
        }
      ]
    },
    {
      "cell_type": "code",
      "source": [
        "PROJECT  = \"/content/hermes-reply-fase5\"\n",
        "REPO_DIR = \"/content/hermes-reply-fase5-repo\"\n",
        "\n",
        "# 0) aborta qualquer merge/rebase travado (se não houver, ignora)\n",
        "!git -C {REPO_DIR} merge --abort 2>/dev/null || true\n",
        "!git -C {REPO_DIR} rebase --abort 2>/dev/null || true\n",
        "\n",
        "# 1) garante que estamos na main acompanhando o remoto e zera conflitos\n",
        "!git -C {REPO_DIR} fetch origin main || true\n",
        "!git -C {REPO_DIR} checkout -B main || true\n",
        "!git -C {REPO_DIR} reset --hard origin/main || true\n",
        "!git -C {REPO_DIR} clean -fd\n",
        "\n",
        "# 2) sincroniza o projeto -> repo (vamos ignorar sensors.db para evitar limite de 100MB)\n",
        "!rsync -a --delete --exclude 'sensors.db' {PROJECT}/ {REPO_DIR}/\n",
        "\n",
        "# 3) .gitignore para não subir arquivos pesados/temporários\n",
        "!bash -lc \"printf '%s\\n' sensors.db __pycache__/ .ipynb_checkpoints/ > {REPO_DIR}/.gitignore\"\n",
        "\n",
        "# 4) commit das mudanças\n",
        "!git -C {REPO_DIR} add -A\n",
        "!git -C {REPO_DIR} commit -m 'Publica ddl/src/images; ignora sensors.db' || echo 'Nada novo para commitar'\n",
        "\n",
        "# 5) remoto via SSH (usando a Deploy Key que você criou)\n",
        "!git -C {REPO_DIR} remote set-url origin git@github.com:flahbocchino/hermes-reply-fase5.git\n",
        "!git -C {REPO_DIR} remote -v\n",
        "\n",
        "# 6) push\n",
        "!git -C {REPO_DIR} push -u origin main\n"
      ],
      "metadata": {
        "colab": {
          "base_uri": "https://localhost:8080/"
        },
        "id": "vOUOFlxYuorZ",
        "outputId": "362d1043-b6ba-4141-d601-eebbd0a704dc"
      },
      "execution_count": 125,
      "outputs": [
        {
          "output_type": "stream",
          "name": "stdout",
          "text": [
            "shell-init: error retrieving current directory: getcwd: cannot access parent directories: No such file or directory\n",
            "shell-init: error retrieving current directory: getcwd: cannot access parent directories: No such file or directory\n",
            "shell-init: error retrieving current directory: getcwd: cannot access parent directories: No such file or directory\n",
            "From github.com:flahbocchino/hermes-reply-fase5\n",
            " * branch            main       -> FETCH_HEAD\n",
            "shell-init: error retrieving current directory: getcwd: cannot access parent directories: No such file or directory\n",
            "Reset branch 'main'\n",
            "shell-init: error retrieving current directory: getcwd: cannot access parent directories: No such file or directory\n",
            "HEAD is now at 8ff59e9 Criado usando o Colab\n",
            "shell-init: error retrieving current directory: getcwd: cannot access parent directories: No such file or directory\n",
            "Removing notebooks/\n",
            "shell-init: error retrieving current directory: getcwd: cannot access parent directories: No such file or directory\n",
            "rsync: [Receiver] getcwd(): No such file or directory (2)\n",
            "rsync error: errors selecting input/output files, dirs (code 3) at util1.c(1122) [Receiver=3.2.7]\n",
            "shell-init: error retrieving current directory: getcwd: cannot access parent directories: No such file or directory\n",
            "shell-init: error retrieving current directory: getcwd: cannot access parent directories: No such file or directory\n",
            "shell-init: error retrieving current directory: getcwd: cannot access parent directories: No such file or directory\n",
            "shell-init: error retrieving current directory: getcwd: cannot access parent directories: No such file or directory\n",
            "[main dbf0e2b] Publica ddl/src/images; ignora sensors.db\n",
            " 1 file changed, 3 insertions(+)\n",
            " create mode 100644 .gitignore\n",
            "shell-init: error retrieving current directory: getcwd: cannot access parent directories: No such file or directory\n",
            "shell-init: error retrieving current directory: getcwd: cannot access parent directories: No such file or directory\n",
            "origin\tgit@github.com:flahbocchino/hermes-reply-fase5.git (fetch)\n",
            "origin\tgit@github.com:flahbocchino/hermes-reply-fase5.git (push)\n",
            "shell-init: error retrieving current directory: getcwd: cannot access parent directories: No such file or directory\n",
            "Enumerating objects: 4, done.\n",
            "Counting objects: 100% (4/4), done.\n",
            "Delta compression using up to 2 threads\n",
            "Compressing objects: 100% (2/2), done.\n",
            "Writing objects: 100% (3/3), 418 bytes | 418.00 KiB/s, done.\n",
            "Total 3 (delta 0), reused 0 (delta 0), pack-reused 0\n",
            "To github.com:flahbocchino/hermes-reply-fase5.git\n",
            "   8ff59e9..dbf0e2b  main -> main\n",
            "Branch 'main' set up to track remote branch 'main' from 'origin'.\n"
          ]
        }
      ]
    },
    {
      "cell_type": "code",
      "source": [
        "# Garantir que o shell está em /content (evita os avisos do getcwd)\n",
        "%cd /content\n",
        "\n",
        "PROJECT  = \"/content/hermes-reply-fase5\"\n",
        "REPO_DIR = \"/content/hermes-reply-fase5-repo\"\n",
        "\n",
        "# sincroniza (sem o sensors.db, que pode passar de 100MB)\n",
        "!rsync -a --delete --exclude 'sensors.db' {PROJECT}/ {REPO_DIR}/\n",
        "\n",
        "# commit e push\n",
        "!git -C {REPO_DIR} add -A\n",
        "!git -C {REPO_DIR} commit -m \"Sincroniza projeto (ddl, src, images) via rsync\" || echo \"Nada novo para commitar\"\n",
        "!git -C {REPO_DIR} push\n"
      ],
      "metadata": {
        "colab": {
          "base_uri": "https://localhost:8080/"
        },
        "id": "0518Z1bovNAS",
        "outputId": "08b3a3ce-2561-4601-c61f-ca0b61d202ed"
      },
      "execution_count": 126,
      "outputs": [
        {
          "output_type": "stream",
          "name": "stdout",
          "text": [
            "/content\n",
            "fatal: not a git repository (or any of the parent directories): .git\n",
            "fatal: not a git repository (or any of the parent directories): .git\n",
            "Nada novo para commitar\n",
            "fatal: not a git repository (or any of the parent directories): .git\n"
          ]
        }
      ]
    },
    {
      "cell_type": "code",
      "source": [
        "# === 1) Preparar variáveis e garantir que a pasta do repo existe\n",
        "%cd /content\n",
        "\n",
        "PROJECT  = \"/content/hermes-reply-fase5\"\n",
        "REPO_DIR = \"/content/hermes-reply-fase5-repo\"\n",
        "\n",
        "import os\n",
        "os.makedirs(REPO_DIR, exist_ok=True)\n",
        "\n",
        "# === 2) (Re)inicializar o repositório git no REPO_DIR\n",
        "# se ainda não for repo, faz 'git init'\n",
        "exit_code = os.system(f\"git -C {REPO_DIR} rev-parse --git-dir > /dev/null 2>&1\")\n",
        "if exit_code != 0:\n",
        "    os.system(f\"git -C {REPO_DIR} init\")\n",
        "\n",
        "# configura usuário e branch\n",
        "os.system(f'git -C {REPO_DIR} config user.name \"flahbocchino\"')\n",
        "os.system(f'git -C {REPO_DIR} config user.email \"flahbocchino@users.noreply.github.com\"')\n",
        "os.system(f\"git -C {REPO_DIR} branch -M main\")\n",
        "\n",
        "# remoto via SSH (usa a Deploy Key que você cadastrou)\n",
        "os.system(f\"git -C {REPO_DIR} remote remove origin 2>/dev/null || true\")\n",
        "os.system(f\"git -C {REPO_DIR} remote add origin git@github.com:flahbocchino/hermes-reply-fase5.git\")\n",
        "os.system(f\"git -C {REPO_DIR} remote -v\")\n",
        "\n",
        "# === 3) Sincronizar os arquivos do projeto para o repo (sem o sensors.db)\n",
        "os.system(f\"rsync -a --delete --exclude 'sensors.db' {PROJECT}/ {REPO_DIR}/\")\n",
        "\n",
        "# .gitignore básico\n",
        "with open(f\"{REPO_DIR}/.gitignore\", \"w\") as f:\n",
        "    f.write(\"sensors.db\\n__pycache__/\\n.ipynb_checkpoints/\\n\")\n",
        "\n",
        "# === 4) Commit + push\n",
        "os.system(f\"git -C {REPO_DIR} add -A\")\n",
        "# se não houver mudanças, o commit vai imprimir a mensagem \"Nada novo para commitar\"\n",
        "if os.system(f'git -C {REPO_DIR} commit -m \"Sincroniza ddl/src/images a partir do Colab\"') != 0:\n",
        "    print(\"Nada novo para commitar\")\n",
        "\n",
        "os.system(f\"git -C {REPO_DIR} push -u origin main\")\n"
      ],
      "metadata": {
        "colab": {
          "base_uri": "https://localhost:8080/"
        },
        "id": "DZ-6P9ZhwS7u",
        "outputId": "5a94cf57-5317-4658-85c7-8317234d206f"
      },
      "execution_count": 127,
      "outputs": [
        {
          "output_type": "stream",
          "name": "stdout",
          "text": [
            "/content\n",
            "Nada novo para commitar\n"
          ]
        },
        {
          "output_type": "execute_result",
          "data": {
            "text/plain": [
              "32768"
            ]
          },
          "metadata": {},
          "execution_count": 127
        }
      ]
    },
    {
      "cell_type": "code",
      "source": [
        "REPO_DIR = \"/content/hermes-reply-fase5-repo\"\n",
        "!git -C {REPO_DIR} status\n",
        "!git -C {REPO_DIR} log --oneline -5\n",
        "!git -C {REPO_DIR} remote -v\n"
      ],
      "metadata": {
        "colab": {
          "base_uri": "https://localhost:8080/"
        },
        "id": "Kgn3n6sXw6Vu",
        "outputId": "f9e450c7-5931-441f-cf38-7d93783f0637"
      },
      "execution_count": 128,
      "outputs": [
        {
          "output_type": "stream",
          "name": "stdout",
          "text": [
            "fatal: not a git repository (or any of the parent directories): .git\n",
            "fatal: not a git repository (or any of the parent directories): .git\n",
            "fatal: not a git repository (or any of the parent directories): .git\n"
          ]
        }
      ]
    },
    {
      "cell_type": "code",
      "source": [
        "# === caminhos base (ajuste só se mudou antes) ===\n",
        "PROJECT = \"/content/hermes-reply-fase5\"         # onde estão ddl/, src/, images/, etc. já criados nas etapas\n",
        "GIT_DIR  = \"/content/hermes-reply-fase5-git\"    # pasta onde vamos clonar o repo\n",
        "REPO_SSH = \"git@github.com:flahbocchino/hermes-reply-fase5.git\"\n",
        "\n",
        "import os, shutil, subprocess\n",
        "\n",
        "# 1) clone limpo do seu repositório (via SSH)\n",
        "shutil.rmtree(GIT_DIR, ignore_errors=True)\n",
        "subprocess.run([\"git\",\"clone\",REPO_SSH,GIT_DIR], check=True)\n",
        "\n",
        "# 2) garante as pastas no clone\n",
        "for d in [\"ddl\",\"src\",\"images\",\"data\"]:\n",
        "    os.makedirs(os.path.join(GIT_DIR, d), exist_ok=True)\n",
        "\n",
        "# 3) copia os artefatos do projeto\n",
        "def safe_copy(pattern_glob, src_root, dst_root):\n",
        "    import glob, shutil, os\n",
        "    for p in glob.glob(os.path.join(src_root, pattern_glob)):\n",
        "        if os.path.isdir(p):\n",
        "            continue\n",
        "        shutil.copy2(p, os.path.join(dst_root, os.path.basename(p)))\n",
        "\n",
        "# DDL\n",
        "safe_copy(\"*.sql\", os.path.join(PROJECT,\"ddl\"), os.path.join(GIT_DIR,\"ddl\"))\n",
        "\n",
        "# Código-fonte (.py) gerado\n",
        "safe_copy(\"*.py\", os.path.join(PROJECT,\"src\"), os.path.join(GIT_DIR,\"src\"))\n",
        "\n",
        "# Imagens (gráficos que você gerou)\n",
        "safe_copy(\"*.png\", os.path.join(PROJECT,\"images\"), os.path.join(GIT_DIR,\"images\"))\n",
        "\n",
        "# (Opcional) CSVs/pequenos dados de exemplo (NÃO copie sensors.db)\n",
        "safe_copy(\"*.csv\", os.path.join(PROJECT,\"data\"), os.path.join(GIT_DIR,\"data\"))\n",
        "\n",
        "# 4) commit + push\n",
        "subprocess.run([\"git\",\"-C\",GIT_DIR,\"add\",\"-A\"], check=True)\n",
        "# mensagem de commit amigável\n",
        "subprocess.run([\"git\",\"-C\",GIT_DIR,\"commit\",\"-m\",\"Add ddl, src (train_ml.py), images e data (CSV) do Colab\"], check=False)\n",
        "subprocess.run([\"git\",\"-C\",GIT_DIR,\"push\",\"origin\",\"main\"], check=True)\n",
        "\n",
        "# 5) mostra o que foi\n",
        "print(\"\\nOK. Enviado! Conteúdo no clone:\")\n",
        "print(\"ddl  ->\", os.listdir(os.path.join(GIT_DIR,\"ddl\")))\n",
        "print(\"src  ->\", os.listdir(os.path.join(GIT_DIR,\"src\")))\n",
        "print(\"imgs ->\", os.listdir(os.path.join(GIT_DIR,\"images\")))\n",
        "print(\"data ->\", os.listdir(os.path.join(GIT_DIR,\"data\")))\n"
      ],
      "metadata": {
        "colab": {
          "base_uri": "https://localhost:8080/"
        },
        "id": "eNBnr8gvxt6W",
        "outputId": "76d1491e-1e09-42e6-b338-ab80deac805d"
      },
      "execution_count": 129,
      "outputs": [
        {
          "output_type": "stream",
          "name": "stdout",
          "text": [
            "\n",
            "OK. Enviado! Conteúdo no clone:\n",
            "ddl  -> ['schema.sql']\n",
            "src  -> ['train_ml.py']\n",
            "imgs -> ['er_diagram.png', 'confusion_matrix_from_script.png', 'serie_sensor_1.png', 'leituras_por_tipo.png', 'confusion_matrix.png']\n",
            "data -> ['units.csv', 'sensor_types.csv', 'assets.csv', 'sites.csv', 'sensors.csv', 'thresholds.csv', 'readings.csv']\n"
          ]
        }
      ]
    },
    {
      "cell_type": "code",
      "source": [
        "PROJECT = \"/content/hermes-reply-fase5\"\n",
        "GIT_DIR  = \"/content/hermes-reply-fase5-git\"\n",
        "\n",
        "print(\"== LOCAL (Colab) ==\")\n",
        "!ls -la \"$PROJECT\"\n",
        "print(\"\\nArquivos (até 2 níveis):\")\n",
        "!find \"$PROJECT\" -maxdepth 2 -type f -printf \"LOCAL: %p\\n\" | sort\n",
        "\n",
        "print(\"\\n== CLONE (GIT_DIR) ==\")\n",
        "!ls -la \"$GIT_DIR\"\n",
        "print(\"\\nGit status:\")\n",
        "!git -C \"$GIT_DIR\" status\n",
        "print(\"\\nRemotes:\")\n",
        "!git -C \"$GIT_DIR\" remote -v\n"
      ],
      "metadata": {
        "colab": {
          "base_uri": "https://localhost:8080/"
        },
        "id": "-rbITFTPyQiL",
        "outputId": "c96279e2-9d03-4cfb-9328-1c665e3edb2f"
      },
      "execution_count": 130,
      "outputs": [
        {
          "output_type": "stream",
          "name": "stdout",
          "text": [
            "== LOCAL (Colab) ==\n",
            "total 1380\n",
            "drwxr-xr-x 8 root root    4096 Sep  1 18:02 .\n",
            "drwxr-xr-x 1 root root    4096 Sep  1 19:33 ..\n",
            "drwxr-xr-x 2 root root    4096 Sep  1 16:20 data\n",
            "drwxr-xr-x 2 root root    4096 Sep  1 16:16 ddl\n",
            "-rw-r--r-- 1 root root      55 Sep  1 18:02 .gitignore\n",
            "drwxr-xr-x 2 root root    4096 Sep  1 18:00 images\n",
            "drwxr-xr-x 2 root root    4096 Sep  1 16:10 notebooks\n",
            "-rw-r--r-- 1 root root    1436 Sep  1 18:02 README.md\n",
            "drwxr-xr-x 2 root root    4096 Sep  1 18:00 reports\n",
            "-rw-r--r-- 1 root root 1368064 Sep  1 18:02 sensors.db\n",
            "drwxr-xr-x 2 root root    4096 Sep  1 17:52 src\n",
            "\n",
            "Arquivos (até 2 níveis):\n",
            "LOCAL: /content/hermes-reply-fase5/data/assets.csv\n",
            "LOCAL: /content/hermes-reply-fase5/data/readings.csv\n",
            "LOCAL: /content/hermes-reply-fase5/data/sensors.csv\n",
            "LOCAL: /content/hermes-reply-fase5/data/sensor_types.csv\n",
            "LOCAL: /content/hermes-reply-fase5/data/sites.csv\n",
            "LOCAL: /content/hermes-reply-fase5/data/thresholds.csv\n",
            "LOCAL: /content/hermes-reply-fase5/data/units.csv\n",
            "LOCAL: /content/hermes-reply-fase5/ddl/schema.sql\n",
            "LOCAL: /content/hermes-reply-fase5/.gitignore\n",
            "LOCAL: /content/hermes-reply-fase5/images/confusion_matrix_from_script.png\n",
            "LOCAL: /content/hermes-reply-fase5/images/confusion_matrix.png\n",
            "LOCAL: /content/hermes-reply-fase5/images/er_diagram.png\n",
            "LOCAL: /content/hermes-reply-fase5/images/leituras_por_tipo.png\n",
            "LOCAL: /content/hermes-reply-fase5/images/serie_sensor_1.png\n",
            "LOCAL: /content/hermes-reply-fase5/README.md\n",
            "LOCAL: /content/hermes-reply-fase5/reports/train_log.txt\n",
            "LOCAL: /content/hermes-reply-fase5/sensors.db\n",
            "LOCAL: /content/hermes-reply-fase5/src/train_ml.py\n",
            "\n",
            "== CLONE (GIT_DIR) ==\n",
            "total 160\n",
            "drwxr-xr-x 7 root root   4096 Sep  1 19:33 .\n",
            "drwxr-xr-x 1 root root   4096 Sep  1 19:33 ..\n",
            "drwxr-xr-x 2 root root   4096 Sep  1 19:33 data\n",
            "drwxr-xr-x 2 root root   4096 Sep  1 19:33 ddl\n",
            "drwxr-xr-x 8 root root   4096 Sep  1 19:33 .git\n",
            "-rw-r--r-- 1 root root     44 Sep  1 19:33 .gitignore\n",
            "-rw-r--r-- 1 root root 122016 Sep  1 19:33 HermesReply_Fase5_DB+ML_FlaviaePedro.ipynb\n",
            "drwxr-xr-x 2 root root   4096 Sep  1 19:33 images\n",
            "-rw-r--r-- 1 root root   5757 Sep  1 19:33 README.md\n",
            "drwxr-xr-x 2 root root   4096 Sep  1 19:33 src\n",
            "\n",
            "Git status:\n",
            "On branch main\n",
            "Your branch is up to date with 'origin/main'.\n",
            "\n",
            "Changes to be committed:\n",
            "  (use \"git restore --staged <file>...\" to unstage)\n",
            "\t\u001b[32mnew file:   data/assets.csv\u001b[m\n",
            "\t\u001b[32mnew file:   data/readings.csv\u001b[m\n",
            "\t\u001b[32mnew file:   data/sensor_types.csv\u001b[m\n",
            "\t\u001b[32mnew file:   data/sensors.csv\u001b[m\n",
            "\t\u001b[32mnew file:   data/sites.csv\u001b[m\n",
            "\t\u001b[32mnew file:   data/thresholds.csv\u001b[m\n",
            "\t\u001b[32mnew file:   data/units.csv\u001b[m\n",
            "\t\u001b[32mnew file:   ddl/schema.sql\u001b[m\n",
            "\t\u001b[32mnew file:   images/confusion_matrix.png\u001b[m\n",
            "\t\u001b[32mnew file:   images/confusion_matrix_from_script.png\u001b[m\n",
            "\t\u001b[32mnew file:   images/er_diagram.png\u001b[m\n",
            "\t\u001b[32mnew file:   images/leituras_por_tipo.png\u001b[m\n",
            "\t\u001b[32mnew file:   images/serie_sensor_1.png\u001b[m\n",
            "\t\u001b[32mnew file:   src/train_ml.py\u001b[m\n",
            "\n",
            "\n",
            "Remotes:\n",
            "origin\tgit@github.com:flahbocchino/hermes-reply-fase5.git (fetch)\n",
            "origin\tgit@github.com:flahbocchino/hermes-reply-fase5.git (push)\n"
          ]
        }
      ]
    },
    {
      "cell_type": "code",
      "source": [
        "PROJECT = \"/content/hermes-reply-fase5\"\n",
        "GIT_DIR  = \"/content/hermes-reply-fase5-git\"\n",
        "\n",
        "# copia TUDO do projeto para o clone (ddl/, src/, images/, data/...), exceto o que não deve ir\n",
        "!rsync -av --delete \\\n",
        "  --exclude 'sensors.db' \\\n",
        "  --exclude '__pycache__/' \\\n",
        "  --exclude '.ipynb_checkpoints/' \\\n",
        "  \"$PROJECT/ \" \"$GIT_DIR/\"\n",
        "\n",
        "# commit + push\n",
        "!git -C \"$GIT_DIR\" add -A\n",
        "!git -C \"$GIT_DIR\" commit -m \"Sync ddl/src/images/data a partir do Colab\" || echo \"Nada para commitar\"\n",
        "!git -C \"$GIT_DIR\" push origin main\n",
        "\n",
        "print(\"\\nConteúdo enviado (listas rápidas):\")\n",
        "!find \"$GIT_DIR/ddl\" -maxdepth 1 -type f -printf \"ddl: %f\\n\" 2>/dev/null || true\n",
        "!find \"$GIT_DIR/src\" -maxdepth 1 -type f -printf \"src: %f\\n\" 2>/dev/null || true\n",
        "!find \"$GIT_DIR/images\" -maxdepth 1 -type f -printf \"img: %f\\n\" 2>/dev/null || true\n",
        "!find \"$GIT_DIR/data\" -maxdepth 1 -type f -printf \"data: %f\\n\" 2>/dev/null || true\n"
      ],
      "metadata": {
        "colab": {
          "base_uri": "https://localhost:8080/"
        },
        "id": "JjyZiKWmyUPU",
        "outputId": "be712c32-f18e-4eab-a706-2c2f89b2c333"
      },
      "execution_count": 131,
      "outputs": [
        {
          "output_type": "stream",
          "name": "stdout",
          "text": [
            "sending incremental file list\n",
            "rsync: [sender] link_stat \"/content/hermes-reply-fase5/ \" failed: No such file or directory (2)\n",
            "\n",
            "sent 19 bytes  received 12 bytes  62.00 bytes/sec\n",
            "total size is 0  speedup is 0.00\n",
            "rsync error: some files/attrs were not transferred (see previous errors) (code 23) at main.c(1338) [sender=3.2.7]\n",
            "Author identity unknown\n",
            "\n",
            "*** Please tell me who you are.\n",
            "\n",
            "Run\n",
            "\n",
            "  git config --global user.email \"you@example.com\"\n",
            "  git config --global user.name \"Your Name\"\n",
            "\n",
            "to set your account's default identity.\n",
            "Omit --global to set the identity only in this repository.\n",
            "\n",
            "fatal: unable to auto-detect email address (got 'root@d3be4d20d959.(none)')\n",
            "Nada para commitar\n",
            "To github.com:flahbocchino/hermes-reply-fase5.git\n",
            " \u001b[31m! [rejected]       \u001b[m main -> main (fetch first)\n",
            "\u001b[31merror: failed to push some refs to 'github.com:flahbocchino/hermes-reply-fase5.git'\n",
            "\u001b[m\u001b[33mhint: Updates were rejected because the remote contains work that you do\u001b[m\n",
            "\u001b[33mhint: not have locally. This is usually caused by another repository pushing\u001b[m\n",
            "\u001b[33mhint: to the same ref. You may want to first integrate the remote changes\u001b[m\n",
            "\u001b[33mhint: (e.g., 'git pull ...') before pushing again.\u001b[m\n",
            "\u001b[33mhint: See the 'Note about fast-forwards' in 'git push --help' for details.\u001b[m\n",
            "\n",
            "Conteúdo enviado (listas rápidas):\n",
            "ddl: schema.sql\n",
            "src: train_ml.py\n",
            "img: er_diagram.png\n",
            "img: confusion_matrix_from_script.png\n",
            "img: serie_sensor_1.png\n",
            "img: leituras_por_tipo.png\n",
            "img: confusion_matrix.png\n",
            "data: units.csv\n",
            "data: sensor_types.csv\n",
            "data: assets.csv\n",
            "data: sites.csv\n",
            "data: sensors.csv\n",
            "data: thresholds.csv\n",
            "data: readings.csv\n"
          ]
        }
      ]
    },
    {
      "cell_type": "code",
      "source": [
        "# === Config ===\n",
        "REPO_DIR = \"/content/hermes-reply-fase5-repo\"  # pasta local do repo\n",
        "\n",
        "# 1) garantir dados de autor para o Git nesta sessão do Colab\n",
        "!git -C {REPO_DIR} config user.name  \"flahbocchino\"\n",
        "!git -C {REPO_DIR} config user.email \"flahbocchino@users.noreply.github.com\"\n",
        "\n",
        "# 2) garantir que estamos na branch main e sincronizados com o remoto\n",
        "!git -C {REPO_DIR} fetch origin main\n",
        "# se a branch não existir localmente, cria a partir do remoto\n",
        "!git -C {REPO_DIR} checkout -B main origin/main\n",
        "\n",
        "# 3) trazer qualquer alteração que você fez pelo site do GitHub (rebase)\n",
        "!git -C {REPO_DIR} pull --rebase origin main\n",
        "\n",
        "# 4) adicionar/commitar o que mudou no Colab (se não houver mudanças, o commit falha e está ok)\n",
        "!git -C {REPO_DIR} add -A\n",
        "!git -C {REPO_DIR} commit -m \"Sincroniza do Colab (ddl/src/images/notebooks)\" || echo \"Nada novo para commitar\"\n",
        "\n",
        "# 5) enviar para o GitHub\n",
        "!git -C {REPO_DIR} push -u origin main\n"
      ],
      "metadata": {
        "colab": {
          "base_uri": "https://localhost:8080/"
        },
        "id": "gFubYZP6zJG3",
        "outputId": "97b6f7d3-2a36-49ad-b80b-1938a26f81e6"
      },
      "execution_count": 132,
      "outputs": [
        {
          "output_type": "stream",
          "name": "stdout",
          "text": [
            "fatal: not in a git directory\n",
            "fatal: not in a git directory\n",
            "fatal: not a git repository (or any of the parent directories): .git\n",
            "fatal: not a git repository (or any of the parent directories): .git\n",
            "fatal: not a git repository (or any of the parent directories): .git\n",
            "fatal: not a git repository (or any of the parent directories): .git\n",
            "fatal: not a git repository (or any of the parent directories): .git\n",
            "Nada novo para commitar\n",
            "fatal: not a git repository (or any of the parent directories): .git\n"
          ]
        }
      ]
    },
    {
      "cell_type": "code",
      "source": [
        "# caminhos\n",
        "PROJECT = \"/content/hermes-reply-fase5\"       # onde estão ddl/, src/, images/, etc.\n",
        "REPO_DIR = \"/content/hermes-reply-fase5-repo\" # cópia versionada\n",
        "\n",
        "REMOTE_SSH   = \"git@github.com:flahbocchino/hermes-reply-fase5.git\"\n",
        "REMOTE_HTTPS = \"https://github.com/flahbocchino/hermes-reply-fase5.git\"\n",
        "\n",
        "# 1) Apaga eventual pasta antiga e clona de novo\n",
        "import shutil, os, subprocess, sys\n",
        "shutil.rmtree(REPO_DIR, ignore_errors=True)\n",
        "\n",
        "# Tenta clonar por SSH (se sua chave estiver ativa); se falhar, clona por HTTPS\n",
        "ret = subprocess.call([\"git\", \"clone\", REMOTE_SSH, REPO_DIR])\n",
        "if ret != 0:\n",
        "    print(\"SSH falhou (provavelmente sem chave carregada). Clonando por HTTPS (somente leitura)…\")\n",
        "    subprocess.check_call([\"git\", \"clone\", REMOTE_HTTPS, REPO_DIR])\n",
        "\n",
        "# 2) Sincroniza arquivos do projeto para o repo (sem o sensors.db)\n",
        "!rsync -a --delete \\\n",
        "    --exclude 'sensors.db' --exclude '__pycache__/' --exclude '.ipynb_checkpoints/' \\\n",
        "    {PROJECT}/ {REPO_DIR}/\n",
        "\n",
        "# 3) Configura autor do commit nesta sessão\n",
        "!git -C {REPO_DIR} config user.name  \"flahbocchino\"\n",
        "!git -C {REPO_DIR} config user.email \"flahbocchino@users.noreply.github.com\"\n",
        "\n",
        "# 4) Adiciona, commita e tenta enviar\n",
        "!git -C {REPO_DIR} add -A\n",
        "!git -C {REPO_DIR} commit -m \"Sincroniza do Colab (ddl/src/images/notebooks)\" || echo \"Nada novo para commitar\"\n",
        "\n",
        "!git -C {REPO_DIR} push -u origin main\n"
      ],
      "metadata": {
        "colab": {
          "base_uri": "https://localhost:8080/"
        },
        "id": "67mwlkWU0LcP",
        "outputId": "176a81b6-080d-4ff8-a5a2-eb03a1dc51c7"
      },
      "execution_count": 133,
      "outputs": [
        {
          "output_type": "stream",
          "name": "stdout",
          "text": [
            "fatal: not in a git directory\n",
            "fatal: not in a git directory\n",
            "fatal: not a git repository (or any of the parent directories): .git\n",
            "fatal: not a git repository (or any of the parent directories): .git\n",
            "Nada novo para commitar\n",
            "fatal: not a git repository (or any of the parent directories): .git\n"
          ]
        }
      ]
    },
    {
      "cell_type": "code",
      "source": [
        "# TESTE SSH: confirma que a Deploy Key com write está ativa\n",
        "!ssh -T git@github.com -o StrictHostKeyChecking=accept-new || true\n"
      ],
      "metadata": {
        "colab": {
          "base_uri": "https://localhost:8080/"
        },
        "id": "hm57ZyPk2Px8",
        "outputId": "4660fd46-99f6-4862-90f3-3d862340fdaf"
      },
      "execution_count": 135,
      "outputs": [
        {
          "output_type": "stream",
          "name": "stdout",
          "text": [
            "Hi flahbocchino/hermes-reply-fase5! You've successfully authenticated, but GitHub does not provide shell access.\n"
          ]
        }
      ]
    },
    {
      "cell_type": "code",
      "source": [
        "import os, subprocess\n",
        "\n",
        "BASE       = \"/content\"\n",
        "PROJECT    = f\"{BASE}/hermes-reply-fase5\"\n",
        "REPO_DIR   = f\"{BASE}/hermes-reply-fase5-repo\"\n",
        "REMOTE_SSH = \"git@github.com:flahbocchino/hermes-reply-fase5.git\"\n",
        "\n",
        "def run(cmd, ok=(0,), capture=False):\n",
        "    \"\"\"Executa comando e não explode: retorna rc (ou stdout se capture=True).\"\"\"\n",
        "    r = subprocess.run(cmd, text=True, capture_output=capture)\n",
        "    if capture:\n",
        "        return r.stdout\n",
        "    if r.returncode not in ok:\n",
        "        out = (r.stdout or \"\") + (r.stderr or \"\")\n",
        "        if out.strip():\n",
        "            print(out.strip())\n",
        "    return r.returncode\n",
        "\n",
        "# 0) Garantias básicas\n",
        "assert os.path.isdir(PROJECT), f\"Pasta do projeto não encontrada: {PROJECT}\"\n",
        "os.makedirs(REPO_DIR, exist_ok=True)\n",
        "\n",
        "# 1) Garante GIT inicializado\n",
        "if run([\"git\",\"-C\",REPO_DIR,\"rev-parse\",\"--is-inside-work-tree\"]) != 0:\n",
        "    run([\"git\",\"-C\",REPO_DIR,\"init\"])\n",
        "    run([\"git\",\"-C\",REPO_DIR,\"config\",\"user.name\",\"flahbocchino\"])\n",
        "    run([\"git\",\"-C\",REPO_DIR,\"config\",\"user.email\",\"flahbocchino@users.noreply.github.com\"])\n",
        "\n",
        "# 2) .gitignore simples\n",
        "with open(os.path.join(REPO_DIR, \".gitignore\"), \"w\", encoding=\"utf-8\") as f:\n",
        "    f.write(\"sensors.db\\n__pycache__/\\n.ipynb_checkpoints/\\n\")\n",
        "\n",
        "# 3) Sincroniza arquivos do projeto -> repo (sem sensors.db/caches)\n",
        "run([\"rsync\",\"-a\",\"--delete\",\n",
        "     \"--exclude\",\"sensors.db\",\n",
        "     \"--exclude\",\"__pycache__/\",\n",
        "     \"--exclude\",\".ipynb_checkpoints/\",\n",
        "     f\"{PROJECT}/\", f\"{REPO_DIR}/\"])\n",
        "\n",
        "# 4) Remote: adiciona se não existir; senão ajusta URL\n",
        "if run([\"git\",\"-C\",REPO_DIR,\"remote\",\"get-url\",\"origin\"]) != 0:\n",
        "    run([\"git\",\"-C\",REPO_DIR,\"remote\",\"add\",\"origin\",REMOTE_SSH])\n",
        "else:\n",
        "    run([\"git\",\"-C\",REPO_DIR,\"remote\",\"set-url\",\"origin\",REMOTE_SSH])\n",
        "\n",
        "# 5) Garante branch main\n",
        "run([\"git\",\"-C\",REPO_DIR,\"branch\",\"-M\",\"main\"])\n",
        "\n",
        "# 6) Commit se houver mudanças\n",
        "status = subprocess.run([\"git\",\"-C\",REPO_DIR,\"status\",\"--porcelain\"], text=True, capture_output=True).stdout.strip()\n",
        "if status:\n",
        "    run([\"git\",\"-C\",REPO_DIR,\"add\",\"-A\"])\n",
        "    run([\"git\",\"-C\",REPO_DIR,\"commit\",\"-m\",\"Sync do Colab (ddl/src/images/notebooks)\"])\n",
        "else:\n",
        "    print(\"Nada novo para commitar.\")\n",
        "\n",
        "# 7) Pull --rebase (ok mesmo se não houver mudanças) e push\n",
        "run([\"git\",\"-C\",REPO_DIR,\"pull\",\"--rebase\",\"origin\",\"main\"], ok=(0,1))\n",
        "run([\"git\",\"-C\",REPO_DIR,\"push\",\"-u\",\"origin\",\"main\"])\n",
        "\n",
        "print(\"\\n✅ Pronto! Confira no GitHub:\")\n",
        "print(\"https://github.com/flahbocchino/hermes-reply-fase5\")\n"
      ],
      "metadata": {
        "colab": {
          "base_uri": "https://localhost:8080/"
        },
        "id": "E7VDpWje33iT",
        "outputId": "a82e3485-48f1-4ff0-ec95-49d38cd5353b"
      },
      "execution_count": 137,
      "outputs": [
        {
          "output_type": "stream",
          "name": "stdout",
          "text": [
            "Nada novo para commitar.\n",
            "\n",
            "✅ Pronto! Confira no GitHub:\n",
            "https://github.com/flahbocchino/hermes-reply-fase5\n"
          ]
        }
      ]
    },
    {
      "cell_type": "code",
      "source": [
        "# Listar tudo que está no projeto\n",
        "!ls -R /content/hermes-reply-fase5\n"
      ],
      "metadata": {
        "colab": {
          "base_uri": "https://localhost:8080/"
        },
        "id": "l1khdRva5ll7",
        "outputId": "9867412c-8597-47d7-ccd7-008ce0b51678"
      },
      "execution_count": 138,
      "outputs": [
        {
          "output_type": "stream",
          "name": "stdout",
          "text": [
            "/content/hermes-reply-fase5:\n",
            "data  ddl  images  notebooks  README.md  reports  sensors.db  src\n",
            "\n",
            "/content/hermes-reply-fase5/data:\n",
            "assets.csv    sensors.csv\tsites.csv\tunits.csv\n",
            "readings.csv  sensor_types.csv\tthresholds.csv\n",
            "\n",
            "/content/hermes-reply-fase5/ddl:\n",
            "schema.sql\n",
            "\n",
            "/content/hermes-reply-fase5/images:\n",
            "confusion_matrix_from_script.png  er_diagram.png\t serie_sensor_1.png\n",
            "confusion_matrix.png\t\t  leituras_por_tipo.png\n",
            "\n",
            "/content/hermes-reply-fase5/notebooks:\n",
            "\n",
            "/content/hermes-reply-fase5/reports:\n",
            "train_log.txt\n",
            "\n",
            "/content/hermes-reply-fase5/src:\n",
            "train_ml.py\n"
          ]
        }
      ]
    },
    {
      "cell_type": "code",
      "source": [
        "%cd /content\n",
        "\n",
        "# Sincroniza o projeto -> repositório local (sem subir o sensors.db)\n",
        "!rsync -a --delete --exclude 'sensors.db' hermes-reply-fase5/ hermes-reply-fase5-repo/\n",
        "\n",
        "# Commit + pull --rebase + push\n",
        "!git -C /content/hermes-reply-fase5-repo add -A\n",
        "!git -C /content/hermes-reply-fase5-repo commit -m \"Publica ddl/src/images\"\n",
        "!git -C /content/hermes-reply-fase5-repo pull --rebase origin main || true\n",
        "!git -C /content/hermes-reply-fase5-repo push -u origin main\n"
      ],
      "metadata": {
        "colab": {
          "base_uri": "https://localhost:8080/"
        },
        "id": "5EUZUuwE50yD",
        "outputId": "7a92d8d8-b61e-43b9-929e-5babedcbd412"
      },
      "execution_count": 139,
      "outputs": [
        {
          "output_type": "stream",
          "name": "stdout",
          "text": [
            "/content\n",
            "fatal: not a git repository (or any of the parent directories): .git\n",
            "fatal: not a git repository (or any of the parent directories): .git\n",
            "fatal: not a git repository (or any of the parent directories): .git\n",
            "fatal: not a git repository (or any of the parent directories): .git\n"
          ]
        }
      ]
    },
    {
      "cell_type": "code",
      "source": [
        "# caminhos/remote\n",
        "REPO_DIR = \"/content/hermes-reply-fase5-repo\"\n",
        "REMOTE   = \"git@github.com:flahbocchino/hermes-reply-fase5.git\"  # via Deploy Key (SSH)\n",
        "\n",
        "import subprocess as sp\n",
        "\n",
        "def sh(cmd):\n",
        "    return sp.run(cmd, text=True, capture_output=True)\n",
        "\n",
        "# adiciona origin se não existir; senão só atualiza a URL\n",
        "r = sh([\"git\",\"-C\",REPO_DIR,\"remote\",\"add\",\"origin\",REMOTE])\n",
        "if r.returncode != 0:\n",
        "    sh([\"git\",\"-C\",REPO_DIR,\"remote\",\"set-url\",\"origin\",REMOTE])\n",
        "\n",
        "# confere\n",
        "print(sh([\"git\",\"-C\",REPO_DIR,\"remote\",\"-v\"]).stdout)\n",
        "\n",
        "# puxa (se houver histórico) e faz push\n",
        "sh([\"git\",\"-C\",REPO_DIR,\"pull\",\"--rebase\",\"origin\",\"main\"])\n",
        "sh([\"git\",\"-C\",REPO_DIR,\"add\",\"-A\"])\n",
        "sh([\"git\",\"-C\",REPO_DIR,\"commit\",\"-m\",\"Sync do Colab (ddl/src/imagens)\"])\n",
        "print(sh([\"git\",\"-C\",REPO_DIR,\"push\",\"-u\",\"origin\",\"main\"]).stdout)\n",
        "\n",
        "print(\"\\n✅ Pronto! Confira: https://github.com/flahbocchino/hermes-reply-fase5\")\n"
      ],
      "metadata": {
        "colab": {
          "base_uri": "https://localhost:8080/"
        },
        "id": "I8vb3S557fQB",
        "outputId": "4b46a169-b1f0-4076-a0d2-8bea2bab42be"
      },
      "execution_count": 141,
      "outputs": [
        {
          "output_type": "stream",
          "name": "stdout",
          "text": [
            "origin\tgit@github.com:flahbocchino/hermes-reply-fase5.git (fetch)\n",
            "origin\tgit@github.com:flahbocchino/hermes-reply-fase5.git (push)\n",
            "\n",
            "\n",
            "\n",
            "✅ Pronto! Confira: https://github.com/flahbocchino/hermes-reply-fase5\n"
          ]
        }
      ]
    }
  ]
}